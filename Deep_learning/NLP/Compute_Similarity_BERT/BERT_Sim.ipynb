{
 "cells": [
  {
   "cell_type": "code",
   "execution_count": 14,
   "id": "bd592782-9025-47a0-8f64-f632940e4bac",
   "metadata": {},
   "outputs": [],
   "source": [
    "import torch\n",
    "from transformers import BertTokenizer, BertModel\n",
    "from sklearn.metrics.pairwise import cosine_similarity\n",
    "import numpy as np\n",
    "import warnings\n",
    "\n",
    "warnings.filterwarnings('ignore')"
   ]
  },
  {
   "cell_type": "code",
   "execution_count": 29,
   "id": "3bdfbffb-7796-43a8-907f-d9bb640363b3",
   "metadata": {},
   "outputs": [
    {
     "name": "stderr",
     "output_type": "stream",
     "text": [
      "Some weights of the model checkpoint at bert-base-chinese were not used when initializing BertModel: ['cls.predictions.transform.dense.bias', 'cls.predictions.transform.LayerNorm.bias', 'cls.predictions.transform.LayerNorm.weight', 'cls.predictions.bias', 'cls.seq_relationship.weight', 'cls.predictions.transform.dense.weight', 'cls.seq_relationship.bias']\n",
      "- This IS expected if you are initializing BertModel from the checkpoint of a model trained on another task or with another architecture (e.g. initializing a BertForSequenceClassification model from a BertForPreTraining model).\n",
      "- This IS NOT expected if you are initializing BertModel from the checkpoint of a model that you expect to be exactly identical (initializing a BertForSequenceClassification model from a BertForSequenceClassification model).\n"
     ]
    }
   ],
   "source": [
    "class NeuralNetwork():\n",
    "    def __init__(self):\n",
    "        self.tokenizer = BertTokenizer.from_pretrained('bert-base-chinese')\n",
    "        self.model = BertModel.from_pretrained('bert-base-chinese')\n",
    "\n",
    "    def sentence_to_embedding(self, sentence):\n",
    "        # 对句子进行分词和编码\n",
    "        tokens = self.tokenizer.tokenize(sentence)\n",
    "        tokens = ['[CLS]'] + tokens + ['[SEP]']\n",
    "        input_ids = self.tokenizer.convert_tokens_to_ids(tokens)\n",
    "        input_ids = torch.tensor(input_ids).unsqueeze(0)  # 添加batch维度\n",
    "\n",
    "        # 获取BERT模型输出的嵌入\n",
    "        with torch.no_grad():\n",
    "            outputs = self.model(input_ids)\n",
    "            embedding = outputs.last_hidden_state.mean(dim=1)  # 对所有词的嵌入取平均作为句子嵌入\n",
    "        return embedding\n",
    "\n",
    "    def compute_similarity(self, embedding1, embedding2):\n",
    "        embedding1_np = embedding1.detach().cpu().numpy()\n",
    "        embedding2_np = embedding2.detach().cpu().numpy()\n",
    "        similarity = cosine_similarity(embedding1_np, embedding2_np)[0][0]\n",
    "        return similarity\n",
    "\n",
    "    def fit(self, sentence1, sentence2):\n",
    "        s1 = self.sentence_to_embedding(sentence1)\n",
    "        s2 = self.sentence_to_embedding(sentence2)\n",
    "        similarity = self.compute_similarity(s1, s2)\n",
    "        return \"%.4f\" % similarity\n",
    "\n",
    "sentence1 = \"葡萄富含百分之九十五的原花青素，和维E协同抗氧化清除自由基，还添加了油茶籽油三效合一抗衰老，百分之三十五的叶绿素九块九毛钱。\"\n",
    "sentence2 = \"葡萄籽富含95%的原花青素。和维E协同抗氧化清除自由基。还添加了油茶籽油3效合1抗老。35%的叶绿素9块9毛钱。\"\n",
    "\n",
    "net = NeuralNetwork()\n",
    "data = net.fit(sentence1, sentence2)"
   ]
  },
  {
   "cell_type": "code",
   "execution_count": 30,
   "id": "6acab1e0-c0b2-44db-be77-1cec72f1930a",
   "metadata": {},
   "outputs": [
    {
     "data": {
      "text/plain": [
       "'0.9704'"
      ]
     },
     "execution_count": 30,
     "metadata": {},
     "output_type": "execute_result"
    }
   ],
   "source": [
    "data"
   ]
  },
  {
   "cell_type": "code",
   "execution_count": null,
   "id": "36dbe1b7-1d21-482e-b19c-3f50b2afd014",
   "metadata": {},
   "outputs": [],
   "source": []
  }
 ],
 "metadata": {
  "kernelspec": {
   "display_name": "Python 3 (ipykernel)",
   "language": "python",
   "name": "python3"
  },
  "language_info": {
   "codemirror_mode": {
    "name": "ipython",
    "version": 3
   },
   "file_extension": ".py",
   "mimetype": "text/x-python",
   "name": "python",
   "nbconvert_exporter": "python",
   "pygments_lexer": "ipython3",
   "version": "3.10.12"
  }
 },
 "nbformat": 4,
 "nbformat_minor": 5
}
