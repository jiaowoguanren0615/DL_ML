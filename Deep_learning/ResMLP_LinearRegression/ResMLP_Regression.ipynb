{
 "cells": [
  {
   "cell_type": "code",
   "execution_count": 6,
   "id": "4832e6dd-779a-41f6-8cf7-7523378b619d",
   "metadata": {
    "execution": {
     "iopub.execute_input": "2023-08-09T13:17:36.722022Z",
     "iopub.status.busy": "2023-08-09T13:17:36.722022Z",
     "iopub.status.idle": "2023-08-09T13:17:36.729274Z",
     "shell.execute_reply": "2023-08-09T13:17:36.729274Z",
     "shell.execute_reply.started": "2023-08-09T13:17:36.722022Z"
    },
    "tags": []
   },
   "outputs": [],
   "source": [
    "import numpy as np\n",
    "import torch\n",
    "import pandas as pd\n",
    "import re, os, sys\n",
    "from tqdm import tqdm\n",
    "from torch.utils.data import DataLoader, Dataset\n",
    "from torch.optim.lr_scheduler import CosineAnnealingLR\n",
    "import torch.nn as nn\n",
    "from sklearn.model_selection import train_test_split"
   ]
  },
  {
   "cell_type": "code",
   "execution_count": 2,
   "id": "e1fe0ca8-353e-4fed-ab95-96ae32363c78",
   "metadata": {
    "execution": {
     "iopub.execute_input": "2023-08-09T13:16:19.508135Z",
     "iopub.status.busy": "2023-08-09T13:16:19.508135Z",
     "iopub.status.idle": "2023-08-09T13:16:19.517985Z",
     "shell.execute_reply": "2023-08-09T13:16:19.517844Z",
     "shell.execute_reply.started": "2023-08-09T13:16:19.508135Z"
    }
   },
   "outputs": [],
   "source": [
    "data = pd.read_csv('./winequality-red.csv')"
   ]
  },
  {
   "cell_type": "code",
   "execution_count": 3,
   "id": "97005a9e-b1be-44f4-aef7-70d19ede20e1",
   "metadata": {
    "execution": {
     "iopub.execute_input": "2023-08-09T13:16:20.551544Z",
     "iopub.status.busy": "2023-08-09T13:16:20.550545Z",
     "iopub.status.idle": "2023-08-09T13:16:20.584188Z",
     "shell.execute_reply": "2023-08-09T13:16:20.583685Z",
     "shell.execute_reply.started": "2023-08-09T13:16:20.551544Z"
    }
   },
   "outputs": [
    {
     "data": {
      "text/html": [
       "<div>\n",
       "<style scoped>\n",
       "    .dataframe tbody tr th:only-of-type {\n",
       "        vertical-align: middle;\n",
       "    }\n",
       "\n",
       "    .dataframe tbody tr th {\n",
       "        vertical-align: top;\n",
       "    }\n",
       "\n",
       "    .dataframe thead th {\n",
       "        text-align: right;\n",
       "    }\n",
       "</style>\n",
       "<table border=\"1\" class=\"dataframe\">\n",
       "  <thead>\n",
       "    <tr style=\"text-align: right;\">\n",
       "      <th></th>\n",
       "      <th>fixed acidity</th>\n",
       "      <th>volatile acidity</th>\n",
       "      <th>citric acid</th>\n",
       "      <th>residual sugar</th>\n",
       "      <th>chlorides</th>\n",
       "      <th>free sulfur dioxide</th>\n",
       "      <th>total sulfur dioxide</th>\n",
       "      <th>density</th>\n",
       "      <th>pH</th>\n",
       "      <th>sulphates</th>\n",
       "      <th>alcohol</th>\n",
       "      <th>quality</th>\n",
       "    </tr>\n",
       "  </thead>\n",
       "  <tbody>\n",
       "    <tr>\n",
       "      <th>0</th>\n",
       "      <td>7.4</td>\n",
       "      <td>0.700</td>\n",
       "      <td>0.00</td>\n",
       "      <td>1.9</td>\n",
       "      <td>0.076</td>\n",
       "      <td>11.0</td>\n",
       "      <td>34.0</td>\n",
       "      <td>0.99780</td>\n",
       "      <td>3.51</td>\n",
       "      <td>0.56</td>\n",
       "      <td>9.4</td>\n",
       "      <td>5</td>\n",
       "    </tr>\n",
       "    <tr>\n",
       "      <th>1</th>\n",
       "      <td>7.8</td>\n",
       "      <td>0.880</td>\n",
       "      <td>0.00</td>\n",
       "      <td>2.6</td>\n",
       "      <td>0.098</td>\n",
       "      <td>25.0</td>\n",
       "      <td>67.0</td>\n",
       "      <td>0.99680</td>\n",
       "      <td>3.20</td>\n",
       "      <td>0.68</td>\n",
       "      <td>9.8</td>\n",
       "      <td>5</td>\n",
       "    </tr>\n",
       "    <tr>\n",
       "      <th>2</th>\n",
       "      <td>7.8</td>\n",
       "      <td>0.760</td>\n",
       "      <td>0.04</td>\n",
       "      <td>2.3</td>\n",
       "      <td>0.092</td>\n",
       "      <td>15.0</td>\n",
       "      <td>54.0</td>\n",
       "      <td>0.99700</td>\n",
       "      <td>3.26</td>\n",
       "      <td>0.65</td>\n",
       "      <td>9.8</td>\n",
       "      <td>5</td>\n",
       "    </tr>\n",
       "    <tr>\n",
       "      <th>3</th>\n",
       "      <td>11.2</td>\n",
       "      <td>0.280</td>\n",
       "      <td>0.56</td>\n",
       "      <td>1.9</td>\n",
       "      <td>0.075</td>\n",
       "      <td>17.0</td>\n",
       "      <td>60.0</td>\n",
       "      <td>0.99800</td>\n",
       "      <td>3.16</td>\n",
       "      <td>0.58</td>\n",
       "      <td>9.8</td>\n",
       "      <td>6</td>\n",
       "    </tr>\n",
       "    <tr>\n",
       "      <th>4</th>\n",
       "      <td>7.4</td>\n",
       "      <td>0.700</td>\n",
       "      <td>0.00</td>\n",
       "      <td>1.9</td>\n",
       "      <td>0.076</td>\n",
       "      <td>11.0</td>\n",
       "      <td>34.0</td>\n",
       "      <td>0.99780</td>\n",
       "      <td>3.51</td>\n",
       "      <td>0.56</td>\n",
       "      <td>9.4</td>\n",
       "      <td>5</td>\n",
       "    </tr>\n",
       "    <tr>\n",
       "      <th>...</th>\n",
       "      <td>...</td>\n",
       "      <td>...</td>\n",
       "      <td>...</td>\n",
       "      <td>...</td>\n",
       "      <td>...</td>\n",
       "      <td>...</td>\n",
       "      <td>...</td>\n",
       "      <td>...</td>\n",
       "      <td>...</td>\n",
       "      <td>...</td>\n",
       "      <td>...</td>\n",
       "      <td>...</td>\n",
       "    </tr>\n",
       "    <tr>\n",
       "      <th>1594</th>\n",
       "      <td>6.2</td>\n",
       "      <td>0.600</td>\n",
       "      <td>0.08</td>\n",
       "      <td>2.0</td>\n",
       "      <td>0.090</td>\n",
       "      <td>32.0</td>\n",
       "      <td>44.0</td>\n",
       "      <td>0.99490</td>\n",
       "      <td>3.45</td>\n",
       "      <td>0.58</td>\n",
       "      <td>10.5</td>\n",
       "      <td>5</td>\n",
       "    </tr>\n",
       "    <tr>\n",
       "      <th>1595</th>\n",
       "      <td>5.9</td>\n",
       "      <td>0.550</td>\n",
       "      <td>0.10</td>\n",
       "      <td>2.2</td>\n",
       "      <td>0.062</td>\n",
       "      <td>39.0</td>\n",
       "      <td>51.0</td>\n",
       "      <td>0.99512</td>\n",
       "      <td>3.52</td>\n",
       "      <td>0.76</td>\n",
       "      <td>11.2</td>\n",
       "      <td>6</td>\n",
       "    </tr>\n",
       "    <tr>\n",
       "      <th>1596</th>\n",
       "      <td>6.3</td>\n",
       "      <td>0.510</td>\n",
       "      <td>0.13</td>\n",
       "      <td>2.3</td>\n",
       "      <td>0.076</td>\n",
       "      <td>29.0</td>\n",
       "      <td>40.0</td>\n",
       "      <td>0.99574</td>\n",
       "      <td>3.42</td>\n",
       "      <td>0.75</td>\n",
       "      <td>11.0</td>\n",
       "      <td>6</td>\n",
       "    </tr>\n",
       "    <tr>\n",
       "      <th>1597</th>\n",
       "      <td>5.9</td>\n",
       "      <td>0.645</td>\n",
       "      <td>0.12</td>\n",
       "      <td>2.0</td>\n",
       "      <td>0.075</td>\n",
       "      <td>32.0</td>\n",
       "      <td>44.0</td>\n",
       "      <td>0.99547</td>\n",
       "      <td>3.57</td>\n",
       "      <td>0.71</td>\n",
       "      <td>10.2</td>\n",
       "      <td>5</td>\n",
       "    </tr>\n",
       "    <tr>\n",
       "      <th>1598</th>\n",
       "      <td>6.0</td>\n",
       "      <td>0.310</td>\n",
       "      <td>0.47</td>\n",
       "      <td>3.6</td>\n",
       "      <td>0.067</td>\n",
       "      <td>18.0</td>\n",
       "      <td>42.0</td>\n",
       "      <td>0.99549</td>\n",
       "      <td>3.39</td>\n",
       "      <td>0.66</td>\n",
       "      <td>11.0</td>\n",
       "      <td>6</td>\n",
       "    </tr>\n",
       "  </tbody>\n",
       "</table>\n",
       "<p>1599 rows × 12 columns</p>\n",
       "</div>"
      ],
      "text/plain": [
       "      fixed acidity  volatile acidity  citric acid  residual sugar  chlorides  \\\n",
       "0               7.4             0.700         0.00             1.9      0.076   \n",
       "1               7.8             0.880         0.00             2.6      0.098   \n",
       "2               7.8             0.760         0.04             2.3      0.092   \n",
       "3              11.2             0.280         0.56             1.9      0.075   \n",
       "4               7.4             0.700         0.00             1.9      0.076   \n",
       "...             ...               ...          ...             ...        ...   \n",
       "1594            6.2             0.600         0.08             2.0      0.090   \n",
       "1595            5.9             0.550         0.10             2.2      0.062   \n",
       "1596            6.3             0.510         0.13             2.3      0.076   \n",
       "1597            5.9             0.645         0.12             2.0      0.075   \n",
       "1598            6.0             0.310         0.47             3.6      0.067   \n",
       "\n",
       "      free sulfur dioxide  total sulfur dioxide  density    pH  sulphates  \\\n",
       "0                    11.0                  34.0  0.99780  3.51       0.56   \n",
       "1                    25.0                  67.0  0.99680  3.20       0.68   \n",
       "2                    15.0                  54.0  0.99700  3.26       0.65   \n",
       "3                    17.0                  60.0  0.99800  3.16       0.58   \n",
       "4                    11.0                  34.0  0.99780  3.51       0.56   \n",
       "...                   ...                   ...      ...   ...        ...   \n",
       "1594                 32.0                  44.0  0.99490  3.45       0.58   \n",
       "1595                 39.0                  51.0  0.99512  3.52       0.76   \n",
       "1596                 29.0                  40.0  0.99574  3.42       0.75   \n",
       "1597                 32.0                  44.0  0.99547  3.57       0.71   \n",
       "1598                 18.0                  42.0  0.99549  3.39       0.66   \n",
       "\n",
       "      alcohol  quality  \n",
       "0         9.4        5  \n",
       "1         9.8        5  \n",
       "2         9.8        5  \n",
       "3         9.8        6  \n",
       "4         9.4        5  \n",
       "...       ...      ...  \n",
       "1594     10.5        5  \n",
       "1595     11.2        6  \n",
       "1596     11.0        6  \n",
       "1597     10.2        5  \n",
       "1598     11.0        6  \n",
       "\n",
       "[1599 rows x 12 columns]"
      ]
     },
     "execution_count": 3,
     "metadata": {},
     "output_type": "execute_result"
    }
   ],
   "source": [
    "data"
   ]
  },
  {
   "cell_type": "code",
   "execution_count": 4,
   "id": "71e2cb87-4871-41c2-96fd-807421fc1df6",
   "metadata": {
    "execution": {
     "iopub.execute_input": "2023-08-09T13:17:00.091361Z",
     "iopub.status.busy": "2023-08-09T13:17:00.090361Z",
     "iopub.status.idle": "2023-08-09T13:17:00.100887Z",
     "shell.execute_reply": "2023-08-09T13:17:00.100359Z",
     "shell.execute_reply.started": "2023-08-09T13:17:00.091361Z"
    }
   },
   "outputs": [],
   "source": [
    "X = data.drop(['quality'], axis=1)\n",
    "y = data['quality']"
   ]
  },
  {
   "cell_type": "code",
   "execution_count": 5,
   "id": "844f9660-b445-40e1-a050-335e47b5e34c",
   "metadata": {
    "execution": {
     "iopub.execute_input": "2023-08-09T13:17:07.127916Z",
     "iopub.status.busy": "2023-08-09T13:17:07.126917Z",
     "iopub.status.idle": "2023-08-09T13:17:07.139836Z",
     "shell.execute_reply": "2023-08-09T13:17:07.139836Z",
     "shell.execute_reply.started": "2023-08-09T13:17:07.127916Z"
    }
   },
   "outputs": [
    {
     "name": "stdout",
     "output_type": "stream",
     "text": [
      "(1599, 11) (1599,)\n"
     ]
    }
   ],
   "source": [
    "print(X.shape, y.shape)"
   ]
  },
  {
   "cell_type": "code",
   "execution_count": 7,
   "id": "ecc379f4-3efe-4831-b2f4-4bb24965ba08",
   "metadata": {
    "execution": {
     "iopub.execute_input": "2023-08-09T13:17:46.926611Z",
     "iopub.status.busy": "2023-08-09T13:17:46.926611Z",
     "iopub.status.idle": "2023-08-09T13:17:46.939609Z",
     "shell.execute_reply": "2023-08-09T13:17:46.939609Z",
     "shell.execute_reply.started": "2023-08-09T13:17:46.926611Z"
    }
   },
   "outputs": [],
   "source": [
    "X_train, X_test, y_train, y_test = train_test_split(X, y)"
   ]
  },
  {
   "cell_type": "code",
   "execution_count": 27,
   "id": "5fd62cec-97cb-4503-afe1-aaa2992e8dc5",
   "metadata": {
    "execution": {
     "iopub.execute_input": "2023-08-09T13:33:15.595594Z",
     "iopub.status.busy": "2023-08-09T13:33:15.595594Z",
     "iopub.status.idle": "2023-08-09T13:33:15.604311Z",
     "shell.execute_reply": "2023-08-09T13:33:15.604311Z",
     "shell.execute_reply.started": "2023-08-09T13:33:15.595594Z"
    }
   },
   "outputs": [
    {
     "name": "stdout",
     "output_type": "stream",
     "text": [
      "(1199, 11) (400, 11)\n"
     ]
    }
   ],
   "source": [
    "print(X_train.shape, X_test.shape)"
   ]
  },
  {
   "cell_type": "code",
   "execution_count": 29,
   "id": "d5f240eb-9e12-4edb-a142-f497581deed4",
   "metadata": {
    "execution": {
     "iopub.execute_input": "2023-08-09T13:37:09.554749Z",
     "iopub.status.busy": "2023-08-09T13:37:09.554749Z",
     "iopub.status.idle": "2023-08-09T13:37:09.562749Z",
     "shell.execute_reply": "2023-08-09T13:37:09.562749Z",
     "shell.execute_reply.started": "2023-08-09T13:37:09.554749Z"
    },
    "tags": []
   },
   "outputs": [],
   "source": [
    "class MyDataset(Dataset):\n",
    "    def __init__(self, X, y):\n",
    "        self.x = torch.from_numpy(np.array(X)).float()\n",
    "        self.y = torch.from_numpy(np.array(y)).float()\n",
    "    \n",
    "    def __len__(self):\n",
    "        return len(self.y)\n",
    "    \n",
    "    def __getitem__(self, item):\n",
    "        x = self.x[item]\n",
    "        y = self.y[item]\n",
    "        return x, y"
   ]
  },
  {
   "cell_type": "code",
   "execution_count": 30,
   "id": "5da91d43-dbcc-4fbd-a21e-a45d6bf28570",
   "metadata": {
    "execution": {
     "iopub.execute_input": "2023-08-09T13:37:10.261089Z",
     "iopub.status.busy": "2023-08-09T13:37:10.260089Z",
     "iopub.status.idle": "2023-08-09T13:37:10.269295Z",
     "shell.execute_reply": "2023-08-09T13:37:10.269295Z",
     "shell.execute_reply.started": "2023-08-09T13:37:10.261089Z"
    },
    "tags": []
   },
   "outputs": [],
   "source": [
    "train_set = MyDataset(X_train, y_train)\n",
    "valid_set = MyDataset(X_test, y_test)\n",
    "\n",
    "train_loader = DataLoader(train_set, batch_size=128, shuffle=True, pin_memory=True)\n",
    "valid_loader = DataLoader(valid_set, batch_size=128, shuffle=False, pin_memory=True)"
   ]
  },
  {
   "cell_type": "code",
   "execution_count": 33,
   "id": "b6f4a063-e454-45da-91ba-c9477834a5cd",
   "metadata": {
    "execution": {
     "iopub.execute_input": "2023-08-09T13:37:19.645423Z",
     "iopub.status.busy": "2023-08-09T13:37:19.645423Z",
     "iopub.status.idle": "2023-08-09T13:37:19.660175Z",
     "shell.execute_reply": "2023-08-09T13:37:19.659388Z",
     "shell.execute_reply.started": "2023-08-09T13:37:19.645423Z"
    },
    "tags": []
   },
   "outputs": [],
   "source": [
    "class ResidualBlock(nn.Module):\n",
    "    def __init__(self, input_units, output_units, residual_path):\n",
    "        super().__init__()\n",
    "        \n",
    "        self.residual_path = residual_path\n",
    "        \n",
    "        self.features_1 = nn.Sequential(\n",
    "            nn.Linear(input_units, output_units), nn.ReLU(inplace=True),\n",
    "            nn.Linear(output_units, output_units), nn.ReLU(inplace=True)\n",
    "        )\n",
    "        \n",
    "        if residual_path:\n",
    "            self.features_2 = nn.Sequential(\n",
    "            nn.Linear(input_units, output_units), nn.GELU(),\n",
    "            nn.Linear(output_units, output_units), nn.GELU()\n",
    "        )\n",
    "        \n",
    "    def forward(self, x):\n",
    "        residual = x\n",
    "        y = self.features_1(x)\n",
    "        if self.residual_path:\n",
    "            residual = self.features_2(x)\n",
    "        output = y + residual\n",
    "        return output\n",
    "    \n",
    "# 残差MLP 特征融合 鲁棒性更好 \n",
    "class ResMLP(nn.Module):\n",
    "    def __init__(self, initial_units, block_list, num_classes, initial_weights=True):\n",
    "        super().__init__()\n",
    "        \n",
    "        self.initial_units = initial_units\n",
    "        self.block_list = block_list\n",
    "        \n",
    "        self.layer1 = nn.Sequential(nn.Linear(initial_units, 32), \n",
    "                                    nn.ReLU(inplace=True), \n",
    "                                    nn.BatchNorm1d(num_features=32)\n",
    "                        )\n",
    "        self.layer2 = self._make_layer(block_num=self.block_list[0], input_units=32, output_units=64)\n",
    "        self.layer3 = self._make_layer(block_num=self.block_list[1], input_units=64, output_units=128)\n",
    "        self.layer4 = self._make_layer(block_num=self.block_list[2], input_units=128, output_units=256)\n",
    "        self.b1 = nn.BatchNorm1d(num_features=256)\n",
    "        self.out = nn.Linear(256, num_classes)\n",
    "        \n",
    "        if initial_weights:\n",
    "            self._initialize_weights()\n",
    "        \n",
    "        \n",
    "    def _make_layer(self, block_num, input_units, output_units):\n",
    "        blocks = []\n",
    "        blocks.append(ResidualBlock(input_units, output_units, residual_path=True))\n",
    "        for _ in range(1, block_num):\n",
    "            blocks.append(ResidualBlock(output_units, output_units, residual_path=False))\n",
    "        \n",
    "        return nn.Sequential(*blocks)\n",
    "    \n",
    "    def _initialize_weights(self):\n",
    "        for m in self.modules():\n",
    "            if isinstance(m, nn.Linear):\n",
    "                nn.init.normal_(m.weight, 0, 0.01)\n",
    "                nn.init.constant_(m.bias, 0)\n",
    "    \n",
    "    \n",
    "    def forward(self, x):\n",
    "        x = self.layer1(x)\n",
    "        x = self.layer2(x)\n",
    "        x = self.layer3(x)\n",
    "        x = self.layer4(x)\n",
    "        x = self.b1(x)\n",
    "        y = self.out(x).squeeze(1)\n",
    "        return y"
   ]
  },
  {
   "cell_type": "code",
   "execution_count": 34,
   "id": "bdf91271-9571-4115-9be0-acfd23980d8c",
   "metadata": {
    "execution": {
     "iopub.execute_input": "2023-08-09T13:37:20.050230Z",
     "iopub.status.busy": "2023-08-09T13:37:20.050230Z",
     "iopub.status.idle": "2023-08-09T13:37:20.060083Z",
     "shell.execute_reply": "2023-08-09T13:37:20.060083Z",
     "shell.execute_reply.started": "2023-08-09T13:37:20.050230Z"
    },
    "tags": []
   },
   "outputs": [],
   "source": [
    "def train_step(net, optimizer, data_loader, device, epoch, scalar=None):\n",
    "    net.train()\n",
    "    loss_function = nn.MSELoss()\n",
    "    train_loss, sampleNum = 0, 0\n",
    "    optimizer.zero_grad()\n",
    "\n",
    "    train_bar = tqdm(data_loader, file=sys.stdout, colour='red')\n",
    "    for step, data in enumerate(train_bar):\n",
    "        images, labels = data\n",
    "        sampleNum += images.shape[0]  # batch\n",
    "        \n",
    "        images, labels = images.to(device), labels.to(device)\n",
    "        optimizer.zero_grad()\n",
    "\n",
    "        if scalar is not None:\n",
    "            with torch.cuda.amp.autocast():\n",
    "                outputs = net(images)\n",
    "                loss = loss_function(outputs, labels)\n",
    "        else:\n",
    "            outputs = net(images)\n",
    "            loss = loss_function(outputs, labels)\n",
    "        train_loss += (loss.item() ** 0.5)\n",
    "        # loss.backward()\n",
    "        # optimizer.step()\n",
    "\n",
    "        if scalar is not None:\n",
    "            scalar.scale(loss).backward()\n",
    "            scalar.step(optimizer)\n",
    "            scalar.update()\n",
    "        else:\n",
    "            loss.backward()\n",
    "            optimizer.step()\n",
    "        train_bar.desc = \"[train epoch {}] RMSE loss: {:.3f}\".format(epoch, train_loss / (step + 1))\n",
    "\n",
    "    return train_loss / (step + 1)\n",
    "\n",
    "\n",
    "@torch.no_grad()\n",
    "def val_step(net, data_loader, device, epoch):\n",
    "    loss_function = nn.MSELoss()\n",
    "    net.eval()\n",
    "    val_loss = 0\n",
    "    sample_num = 0\n",
    "    val_bar = tqdm(data_loader, file=sys.stdout, colour='red')\n",
    "    for step, data in enumerate(val_bar):\n",
    "        images, labels = data\n",
    "        sample_num += images.shape[0]\n",
    "        images, labels = images.to(device), labels.to(device)\n",
    "        outputs = net(images)\n",
    "        loss = loss_function(outputs, labels)\n",
    "        val_loss += (loss.item() ** 0.5)\n",
    "        val_bar.desc = \"[valid epoch {}] RMSE loss: {:.3f}\".format(epoch, val_loss / (step + 1))\n",
    "\n",
    "    return val_loss / (step + 1)"
   ]
  },
  {
   "cell_type": "code",
   "execution_count": 37,
   "id": "ce6f6a29-370e-47fb-8a71-2d31a0ff7c4d",
   "metadata": {
    "execution": {
     "iopub.execute_input": "2023-08-09T13:37:34.184902Z",
     "iopub.status.busy": "2023-08-09T13:37:34.184902Z",
     "iopub.status.idle": "2023-08-09T13:37:34.228921Z",
     "shell.execute_reply": "2023-08-09T13:37:34.228071Z",
     "shell.execute_reply.started": "2023-08-09T13:37:34.184902Z"
    },
    "tags": []
   },
   "outputs": [],
   "source": [
    "epochs = 30\n",
    "model = ResMLP(11, [2, 2, 2], 1).to(device)\n",
    "device = 'cuda' if torch.cuda.is_available() else 'cpu'\n",
    "lr = 1e-3\n",
    "weight_decay = 1e-5\n",
    "optimizer=torch.optim.AdamW(model.parameters(), lr=lr, weight_decay=weight_decay)\n",
    "lr_scheduler = CosineAnnealingLR(optimizer, T_max=5)\n",
    "best_loss = 10000\n",
    "scalar = torch.cuda.amp.GradScaler()"
   ]
  },
  {
   "cell_type": "code",
   "execution_count": 38,
   "id": "57f43d7b-0a47-471d-a7e4-745c64dbefe8",
   "metadata": {
    "execution": {
     "iopub.execute_input": "2023-08-09T13:37:34.711662Z",
     "iopub.status.busy": "2023-08-09T13:37:34.710660Z",
     "iopub.status.idle": "2023-08-09T13:37:41.295333Z",
     "shell.execute_reply": "2023-08-09T13:37:41.295333Z",
     "shell.execute_reply.started": "2023-08-09T13:37:34.711662Z"
    },
    "tags": []
   },
   "outputs": [
    {
     "name": "stdout",
     "output_type": "stream",
     "text": [
      "[train epoch 0] RMSE loss: 5.690: 100%|\u001b[31m████████████████████████████████████████████████\u001b[0m| 10/10 [00:03<00:00,  2.93it/s]\u001b[0m\n",
      "[valid epoch 0] RMSE loss: 5.651: 100%|\u001b[31m█████████████████████████████████████████████████\u001b[0m| 4/4 [00:00<00:00, 147.15it/s]\u001b[0m\n",
      "[train epoch 1] RMSE loss: 5.642: 100%|\u001b[31m████████████████████████████████████████████████\u001b[0m| 10/10 [00:00<00:00, 87.60it/s]\u001b[0m\n",
      "[valid epoch 1] RMSE loss: 5.596: 100%|\u001b[31m█████████████████████████████████████████████████\u001b[0m| 4/4 [00:00<00:00, 166.45it/s]\u001b[0m\n",
      "[train epoch 2] RMSE loss: 5.569: 100%|\u001b[31m███████████████████████████████████████████████\u001b[0m| 10/10 [00:00<00:00, 111.56it/s]\u001b[0m\n",
      "[valid epoch 2] RMSE loss: 5.517: 100%|\u001b[31m█████████████████████████████████████████████████\u001b[0m| 4/4 [00:00<00:00, 206.07it/s]\u001b[0m\n",
      "[train epoch 3] RMSE loss: 5.475: 100%|\u001b[31m███████████████████████████████████████████████\u001b[0m| 10/10 [00:00<00:00, 108.90it/s]\u001b[0m\n",
      "[valid epoch 3] RMSE loss: 5.468: 100%|\u001b[31m█████████████████████████████████████████████████\u001b[0m| 4/4 [00:00<00:00, 241.54it/s]\u001b[0m\n",
      "[train epoch 4] RMSE loss: 5.446: 100%|\u001b[31m███████████████████████████████████████████████\u001b[0m| 10/10 [00:00<00:00, 121.73it/s]\u001b[0m\n",
      "[valid epoch 4] RMSE loss: 5.438: 100%|\u001b[31m█████████████████████████████████████████████████\u001b[0m| 4/4 [00:00<00:00, 274.07it/s]\u001b[0m\n",
      "[train epoch 5] RMSE loss: 5.435: 100%|\u001b[31m███████████████████████████████████████████████\u001b[0m| 10/10 [00:00<00:00, 101.71it/s]\u001b[0m\n",
      "[valid epoch 5] RMSE loss: 5.434: 100%|\u001b[31m█████████████████████████████████████████████████\u001b[0m| 4/4 [00:00<00:00, 268.55it/s]\u001b[0m\n",
      "[train epoch 6] RMSE loss: 5.415: 100%|\u001b[31m████████████████████████████████████████████████\u001b[0m| 10/10 [00:00<00:00, 89.69it/s]\u001b[0m\n",
      "[valid epoch 6] RMSE loss: 5.411: 100%|\u001b[31m█████████████████████████████████████████████████\u001b[0m| 4/4 [00:00<00:00, 292.95it/s]\u001b[0m\n",
      "[train epoch 7] RMSE loss: 5.381: 100%|\u001b[31m████████████████████████████████████████████████\u001b[0m| 10/10 [00:00<00:00, 88.61it/s]\u001b[0m\n",
      "[valid epoch 7] RMSE loss: 5.332: 100%|\u001b[31m█████████████████████████████████████████████████\u001b[0m| 4/4 [00:00<00:00, 302.02it/s]\u001b[0m\n",
      "[train epoch 8] RMSE loss: 5.264: 100%|\u001b[31m███████████████████████████████████████████████\u001b[0m| 10/10 [00:00<00:00, 139.88it/s]\u001b[0m\n",
      "[valid epoch 8] RMSE loss: 5.387: 100%|\u001b[31m█████████████████████████████████████████████████\u001b[0m| 4/4 [00:00<00:00, 398.22it/s]\u001b[0m\n",
      "[train epoch 9] RMSE loss: 5.035: 100%|\u001b[31m███████████████████████████████████████████████\u001b[0m| 10/10 [00:00<00:00, 110.17it/s]\u001b[0m\n",
      "[valid epoch 9] RMSE loss: 4.647: 100%|\u001b[31m█████████████████████████████████████████████████\u001b[0m| 4/4 [00:00<00:00, 413.15it/s]\u001b[0m\n",
      "[train epoch 10] RMSE loss: 4.667: 100%|\u001b[31m██████████████████████████████████████████████\u001b[0m| 10/10 [00:00<00:00, 110.62it/s]\u001b[0m\n",
      "[valid epoch 10] RMSE loss: 2.610: 100%|\u001b[31m████████████████████████████████████████████████\u001b[0m| 4/4 [00:00<00:00, 302.76it/s]\u001b[0m\n",
      "[train epoch 11] RMSE loss: 4.155: 100%|\u001b[31m██████████████████████████████████████████████\u001b[0m| 10/10 [00:00<00:00, 118.90it/s]\u001b[0m\n",
      "[valid epoch 11] RMSE loss: 1.368: 100%|\u001b[31m████████████████████████████████████████████████\u001b[0m| 4/4 [00:00<00:00, 524.70it/s]\u001b[0m\n",
      "[train epoch 12] RMSE loss: 3.664: 100%|\u001b[31m██████████████████████████████████████████████\u001b[0m| 10/10 [00:00<00:00, 133.43it/s]\u001b[0m\n",
      "[valid epoch 12] RMSE loss: 1.385: 100%|\u001b[31m████████████████████████████████████████████████\u001b[0m| 4/4 [00:00<00:00, 345.46it/s]\u001b[0m\n",
      "[train epoch 13] RMSE loss: 3.314: 100%|\u001b[31m██████████████████████████████████████████████\u001b[0m| 10/10 [00:00<00:00, 137.77it/s]\u001b[0m\n",
      "[valid epoch 13] RMSE loss: 2.739: 100%|\u001b[31m████████████████████████████████████████████████\u001b[0m| 4/4 [00:00<00:00, 442.06it/s]\u001b[0m\n",
      "[train epoch 14] RMSE loss: 3.138: 100%|\u001b[31m██████████████████████████████████████████████\u001b[0m| 10/10 [00:00<00:00, 111.68it/s]\u001b[0m\n",
      "[valid epoch 14] RMSE loss: 2.711: 100%|\u001b[31m████████████████████████████████████████████████\u001b[0m| 4/4 [00:00<00:00, 172.51it/s]\u001b[0m\n",
      "[train epoch 15] RMSE loss: 3.097: 100%|\u001b[31m██████████████████████████████████████████████\u001b[0m| 10/10 [00:00<00:00, 114.10it/s]\u001b[0m\n",
      "[valid epoch 15] RMSE loss: 2.960: 100%|\u001b[31m████████████████████████████████████████████████\u001b[0m| 4/4 [00:00<00:00, 286.81it/s]\u001b[0m\n",
      "[train epoch 16] RMSE loss: 3.065: 100%|\u001b[31m██████████████████████████████████████████████\u001b[0m| 10/10 [00:00<00:00, 110.87it/s]\u001b[0m\n",
      "[valid epoch 16] RMSE loss: 3.167: 100%|\u001b[31m████████████████████████████████████████████████\u001b[0m| 4/4 [00:00<00:00, 284.05it/s]\u001b[0m\n",
      "[train epoch 17] RMSE loss: 2.938: 100%|\u001b[31m██████████████████████████████████████████████\u001b[0m| 10/10 [00:00<00:00, 205.64it/s]\u001b[0m\n",
      "[valid epoch 17] RMSE loss: 2.940: 100%|\u001b[31m████████████████████████████████████████████████\u001b[0m| 4/4 [00:00<00:00, 465.53it/s]\u001b[0m\n",
      "[train epoch 18] RMSE loss: 2.629: 100%|\u001b[31m██████████████████████████████████████████████\u001b[0m| 10/10 [00:00<00:00, 114.98it/s]\u001b[0m\n",
      "[valid epoch 18] RMSE loss: 0.907: 100%|\u001b[31m████████████████████████████████████████████████\u001b[0m| 4/4 [00:00<00:00, 253.47it/s]\u001b[0m\n",
      "[train epoch 19] RMSE loss: 2.118: 100%|\u001b[31m██████████████████████████████████████████████\u001b[0m| 10/10 [00:00<00:00, 123.26it/s]\u001b[0m\n",
      "[valid epoch 19] RMSE loss: 1.051: 100%|\u001b[31m████████████████████████████████████████████████\u001b[0m| 4/4 [00:00<00:00, 379.70it/s]\u001b[0m\n",
      "[train epoch 20] RMSE loss: 1.564: 100%|\u001b[31m██████████████████████████████████████████████\u001b[0m| 10/10 [00:00<00:00, 117.72it/s]\u001b[0m\n",
      "[valid epoch 20] RMSE loss: 1.041: 100%|\u001b[31m████████████████████████████████████████████████\u001b[0m| 4/4 [00:00<00:00, 303.88it/s]\u001b[0m\n",
      "[train epoch 21] RMSE loss: 1.080: 100%|\u001b[31m██████████████████████████████████████████████\u001b[0m| 10/10 [00:00<00:00, 125.64it/s]\u001b[0m\n",
      "[valid epoch 21] RMSE loss: 0.741: 100%|\u001b[31m████████████████████████████████████████████████\u001b[0m| 4/4 [00:00<00:00, 416.72it/s]\u001b[0m\n",
      "[train epoch 22] RMSE loss: 0.821: 100%|\u001b[31m██████████████████████████████████████████████\u001b[0m| 10/10 [00:00<00:00, 123.45it/s]\u001b[0m\n",
      "[valid epoch 22] RMSE loss: 1.653: 100%|\u001b[31m████████████████████████████████████████████████\u001b[0m| 4/4 [00:00<00:00, 380.37it/s]\u001b[0m\n",
      "[train epoch 23] RMSE loss: 0.724: 100%|\u001b[31m██████████████████████████████████████████████\u001b[0m| 10/10 [00:00<00:00, 121.82it/s]\u001b[0m\n",
      "[valid epoch 23] RMSE loss: 1.230: 100%|\u001b[31m████████████████████████████████████████████████\u001b[0m| 4/4 [00:00<00:00, 196.18it/s]\u001b[0m\n",
      "[train epoch 24] RMSE loss: 0.688: 100%|\u001b[31m██████████████████████████████████████████████\u001b[0m| 10/10 [00:00<00:00, 119.28it/s]\u001b[0m\n",
      "[valid epoch 24] RMSE loss: 1.146: 100%|\u001b[31m████████████████████████████████████████████████\u001b[0m| 4/4 [00:00<00:00, 492.16it/s]\u001b[0m\n",
      "[train epoch 25] RMSE loss: 0.685: 100%|\u001b[31m██████████████████████████████████████████████\u001b[0m| 10/10 [00:00<00:00, 120.21it/s]\u001b[0m\n",
      "[valid epoch 25] RMSE loss: 0.859: 100%|\u001b[31m████████████████████████████████████████████████\u001b[0m| 4/4 [00:00<00:00, 305.39it/s]\u001b[0m\n",
      "[train epoch 26] RMSE loss: 0.679: 100%|\u001b[31m██████████████████████████████████████████████\u001b[0m| 10/10 [00:00<00:00, 120.29it/s]\u001b[0m\n",
      "[valid epoch 26] RMSE loss: 0.756: 100%|\u001b[31m████████████████████████████████████████████████\u001b[0m| 4/4 [00:00<00:00, 382.34it/s]\u001b[0m\n",
      "[train epoch 27] RMSE loss: 0.661: 100%|\u001b[31m██████████████████████████████████████████████\u001b[0m| 10/10 [00:00<00:00, 103.11it/s]\u001b[0m\n",
      "[valid epoch 27] RMSE loss: 0.728: 100%|\u001b[31m████████████████████████████████████████████████\u001b[0m| 4/4 [00:00<00:00, 194.10it/s]\u001b[0m\n",
      "[train epoch 28] RMSE loss: 0.649: 100%|\u001b[31m██████████████████████████████████████████████\u001b[0m| 10/10 [00:00<00:00, 138.35it/s]\u001b[0m\n",
      "[valid epoch 28] RMSE loss: 1.948: 100%|\u001b[31m████████████████████████████████████████████████\u001b[0m| 4/4 [00:00<00:00, 519.61it/s]\u001b[0m\n",
      "[train epoch 29] RMSE loss: 0.632: 100%|\u001b[31m██████████████████████████████████████████████\u001b[0m| 10/10 [00:00<00:00, 103.30it/s]\u001b[0m\n",
      "[valid epoch 29] RMSE loss: 1.948: 100%|\u001b[31m████████████████████████████████████████████████\u001b[0m| 4/4 [00:00<00:00, 255.70it/s]\u001b[0m\n"
     ]
    }
   ],
   "source": [
    "for epoch in range(epochs):\n",
    "        # train\n",
    "    train_loss = train_step(net=model, optimizer=optimizer, data_loader=train_loader, device=device, epoch=epoch, scalar=scalar)\n",
    "\n",
    "        # validate\n",
    "    val_loss = val_step(net=model, data_loader=valid_loader, device=device, epoch=epoch)\n",
    "\n",
    "    lr_scheduler.step()\n",
    "    \n",
    "    if val_loss < best_loss:\n",
    "        best_loss = val_loss"
   ]
  },
  {
   "cell_type": "code",
   "execution_count": 39,
   "id": "5589433f-7145-4609-8f1f-7a6017d89ec5",
   "metadata": {
    "execution": {
     "iopub.execute_input": "2023-08-09T13:37:49.782206Z",
     "iopub.status.busy": "2023-08-09T13:37:49.782206Z",
     "iopub.status.idle": "2023-08-09T13:37:49.790523Z",
     "shell.execute_reply": "2023-08-09T13:37:49.790203Z",
     "shell.execute_reply.started": "2023-08-09T13:37:49.782206Z"
    }
   },
   "outputs": [
    {
     "data": {
      "text/plain": [
       "0.7282637381691834"
      ]
     },
     "execution_count": 39,
     "metadata": {},
     "output_type": "execute_result"
    }
   ],
   "source": [
    "best_loss"
   ]
  },
  {
   "cell_type": "code",
   "execution_count": null,
   "id": "bf449195-04ea-4ee8-b93c-56e9035bcdee",
   "metadata": {},
   "outputs": [],
   "source": []
  }
 ],
 "metadata": {
  "kernelspec": {
   "display_name": "torch2",
   "language": "python",
   "name": "torch2"
  },
  "language_info": {
   "codemirror_mode": {
    "name": "ipython",
    "version": 3
   },
   "file_extension": ".py",
   "mimetype": "text/x-python",
   "name": "python",
   "nbconvert_exporter": "python",
   "pygments_lexer": "ipython3",
   "version": "3.9.16"
  },
  "widgets": {
   "application/vnd.jupyter.widget-state+json": {
    "state": {},
    "version_major": 2,
    "version_minor": 0
   }
  }
 },
 "nbformat": 4,
 "nbformat_minor": 5
}
