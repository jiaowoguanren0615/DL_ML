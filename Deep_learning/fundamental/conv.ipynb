{
 "cells": [
  {
   "cell_type": "code",
   "execution_count": 8,
   "id": "5f538ced-8a89-489a-8b77-2e16a5372a47",
   "metadata": {
    "execution": {
     "iopub.execute_input": "2023-06-06T11:11:59.014593Z",
     "iopub.status.busy": "2023-06-06T11:11:59.014593Z",
     "iopub.status.idle": "2023-06-06T11:11:59.020117Z",
     "shell.execute_reply": "2023-06-06T11:11:59.020117Z",
     "shell.execute_reply.started": "2023-06-06T11:11:59.014593Z"
    },
    "tags": []
   },
   "outputs": [],
   "source": [
    "import torch\n",
    "import torch.nn as nn\n",
    "import torch.nn.functional as F\n",
    "import matplotlib.pyplot as plt\n",
    "import numpy as np"
   ]
  },
  {
   "cell_type": "code",
   "execution_count": 56,
   "id": "5dcff68a-3f44-4b50-93ff-6529f23ae437",
   "metadata": {
    "execution": {
     "iopub.execute_input": "2023-06-06T11:31:21.283730Z",
     "iopub.status.busy": "2023-06-06T11:31:21.283730Z",
     "iopub.status.idle": "2023-06-06T11:31:21.302377Z",
     "shell.execute_reply": "2023-06-06T11:31:21.301377Z",
     "shell.execute_reply.started": "2023-06-06T11:31:21.283730Z"
    },
    "tags": []
   },
   "outputs": [],
   "source": [
    "\"\"\"\n",
    "卷积后，池化后尺寸计算公式：\n",
    "((图像尺寸 - 卷积核尺寸 + 2 * 填充值) / 步长) + 1\n",
    "((图像尺寸 - 池化窗尺寸 + 2 * 填充值) / 步长) + 1\n",
    "\n",
    "\n",
    "感受野计算公式：\n",
    "F(i) = (F(i + 1) - 1) * stride + kernel_size\n",
    "\"\"\"\n",
    "\n",
    "\n",
    "def conv2D_calculation(X, K, S=1, P=0, B=0):\n",
    "    \"\"\"\n",
    "    X: input size\n",
    "    K: kernel_size\n",
    "    S: Step\n",
    "    P: padding\n",
    "    B: Bias\n",
    "    \"\"\"\n",
    "    h, w = K.shape\n",
    "    Y = np.zeros(\n",
    "            (int(((X.shape[0] - h + 2 * P) / S ) + 1), \n",
    "            (int((X.shape[1] - w + 2 * P) / S ) + 1))\n",
    "        )\n",
    "    for i in range(Y.shape[0]):\n",
    "        for j in range(Y.shape[1]):\n",
    "            Y[i, j] = (X[i:i + h, j:j + w] * K).sum()\n",
    "    return Y + B\n",
    "\n",
    "\n",
    "\n",
    "def Maxpool2D_calculation(X, K, S=1, P=0, B=0, mode='max'):\n",
    "    \"\"\"\n",
    "    X: input size\n",
    "    K: pool_size\n",
    "    S: Step\n",
    "    P: padding\n",
    "    B: Bias\n",
    "    \"\"\"\n",
    "    p_h, p_w = K\n",
    "    Y = np.zeros(\n",
    "            (int(((X.shape[0] - p_h + 2 * P) / S ) + 1), \n",
    "            (int((X.shape[1] - p_w + 2 * P) / S ) + 1))\n",
    "        )\n",
    "    for i in range(Y.shape[0]):\n",
    "        for j in range(Y.shape[1]):\n",
    "            if mode == 'max':\n",
    "                Y[i, j] = X[i: i + p_h, j: j + p_w].max()\n",
    "            elif mode == 'avg':\n",
    "                Y[i, j] = X[i: i + p_h, j: j + p_w].mean()\n",
    "    return Y + B"
   ]
  },
  {
   "cell_type": "code",
   "execution_count": 57,
   "id": "138d3a66-3b60-4e50-8858-28857c366672",
   "metadata": {
    "execution": {
     "iopub.execute_input": "2023-06-06T11:31:21.642294Z",
     "iopub.status.busy": "2023-06-06T11:31:21.642294Z",
     "iopub.status.idle": "2023-06-06T11:31:21.660830Z",
     "shell.execute_reply": "2023-06-06T11:31:21.660830Z",
     "shell.execute_reply.started": "2023-06-06T11:31:21.642294Z"
    },
    "tags": []
   },
   "outputs": [
    {
     "name": "stdout",
     "output_type": "stream",
     "text": [
      "no bias: \n",
      " [[19. 25.]\n",
      " [37. 43.]]\n",
      "bias: \n",
      " [[21. 27.]\n",
      " [39. 45.]]\n"
     ]
    }
   ],
   "source": [
    "X = np.array([[0.0, 1.0, 2.0], [3.0, 4.0, 5.0], [6.0, 7.0, 8.0]])\n",
    "K = np.array([[0.0, 1.0], [2.0, 3.0]])\n",
    "print('no bias: \\n', conv2D_calculation(X, K))\n",
    "print('bias: \\n', conv2D_calculation(X, K, B=2))"
   ]
  },
  {
   "cell_type": "code",
   "execution_count": 58,
   "id": "0d89dab8-547f-4b96-90e4-248df8e09804",
   "metadata": {
    "execution": {
     "iopub.execute_input": "2023-06-06T11:31:21.940130Z",
     "iopub.status.busy": "2023-06-06T11:31:21.940130Z",
     "iopub.status.idle": "2023-06-06T11:31:21.956788Z",
     "shell.execute_reply": "2023-06-06T11:31:21.956788Z",
     "shell.execute_reply.started": "2023-06-06T11:31:21.940130Z"
    },
    "tags": []
   },
   "outputs": [
    {
     "data": {
      "text/plain": [
       "array([[ 4.,  5.,  6.],\n",
       "       [ 7.,  8.,  9.],\n",
       "       [10., 11., 12.]])"
      ]
     },
     "execution_count": 58,
     "metadata": {},
     "output_type": "execute_result"
    }
   ],
   "source": [
    "X = torch.tensor([[0.0, 1.0, 2.0, 3.0], [3.0, 4.0, 5.0, 6.0], [6.0, 7.0, 8.0, 9.0],\n",
    "                 [9.0, 10.0, 11.0, 12.0]])\n",
    "Maxpool2D_calculation(X, (2, 2))"
   ]
  },
  {
   "cell_type": "code",
   "execution_count": 59,
   "id": "a430d658-04eb-4575-a7e0-7c5cbb1816b0",
   "metadata": {
    "execution": {
     "iopub.execute_input": "2023-06-06T11:31:22.265555Z",
     "iopub.status.busy": "2023-06-06T11:31:22.265013Z",
     "iopub.status.idle": "2023-06-06T11:31:22.284128Z",
     "shell.execute_reply": "2023-06-06T11:31:22.283400Z",
     "shell.execute_reply.started": "2023-06-06T11:31:22.265555Z"
    },
    "tags": []
   },
   "outputs": [
    {
     "data": {
      "text/plain": [
       "tensor([[ 0.,  1.,  2.,  3.],\n",
       "        [ 3.,  4.,  5.,  6.],\n",
       "        [ 6.,  7.,  8.,  9.],\n",
       "        [ 9., 10., 11., 12.]])"
      ]
     },
     "execution_count": 59,
     "metadata": {},
     "output_type": "execute_result"
    }
   ],
   "source": [
    "X"
   ]
  },
  {
   "cell_type": "code",
   "execution_count": 60,
   "id": "585d6174-49e3-4ec8-84b7-d8596d2023b6",
   "metadata": {
    "execution": {
     "iopub.execute_input": "2023-06-06T11:31:22.726814Z",
     "iopub.status.busy": "2023-06-06T11:31:22.725811Z",
     "iopub.status.idle": "2023-06-06T11:31:22.733830Z",
     "shell.execute_reply": "2023-06-06T11:31:22.733830Z",
     "shell.execute_reply.started": "2023-06-06T11:31:22.726814Z"
    },
    "tags": []
   },
   "outputs": [
    {
     "data": {
      "text/plain": [
       "array([[ 2.,  3.,  4.],\n",
       "       [ 5.,  6.,  7.],\n",
       "       [ 8.,  9., 10.]])"
      ]
     },
     "execution_count": 60,
     "metadata": {},
     "output_type": "execute_result"
    }
   ],
   "source": [
    "Maxpool2D_calculation(X, (2, 2), mode='avg')"
   ]
  },
  {
   "cell_type": "code",
   "execution_count": 62,
   "id": "9e1bece0-4804-408a-9bb4-40ab400d5b70",
   "metadata": {
    "execution": {
     "iopub.execute_input": "2023-06-06T11:40:40.885956Z",
     "iopub.status.busy": "2023-06-06T11:40:40.885453Z",
     "iopub.status.idle": "2023-06-06T11:40:40.900475Z",
     "shell.execute_reply": "2023-06-06T11:40:40.900475Z",
     "shell.execute_reply.started": "2023-06-06T11:40:40.885453Z"
    },
    "tags": []
   },
   "outputs": [],
   "source": [
    "def drop_out(X, prob):\n",
    "    \"\"\"\n",
    "    X: input size\n",
    "    prob: drop_rate\n",
    "    \"\"\"\n",
    "    assert 0 <= prob <= 1\n",
    "    if prob == 1:\n",
    "        return torch.zeros_like(X)\n",
    "    if prob == 0:\n",
    "        return X\n",
    "    mask = (torch.randn(X.shape) > prob).float()\n",
    "    return mask * X / (1.0 - prob)"
   ]
  },
  {
   "cell_type": "code",
   "execution_count": 66,
   "id": "88bbf544-e819-4dcb-84cf-a94d7fc3d7d2",
   "metadata": {
    "execution": {
     "iopub.execute_input": "2023-06-06T11:44:23.281838Z",
     "iopub.status.busy": "2023-06-06T11:44:23.280837Z",
     "iopub.status.idle": "2023-06-06T11:44:23.298049Z",
     "shell.execute_reply": "2023-06-06T11:44:23.298049Z",
     "shell.execute_reply.started": "2023-06-06T11:44:23.280837Z"
    },
    "tags": []
   },
   "outputs": [
    {
     "name": "stdout",
     "output_type": "stream",
     "text": [
      "tensor([[ 1.,  2.,  3.,  4.,  5.,  6.,  7.,  8.],\n",
      "        [ 9., 10., 11., 12., 13., 14., 15., 16.]])\n",
      "tensor([[ 1.,  2.,  3.,  4.,  5.,  6.,  7.,  8.],\n",
      "        [ 9., 10., 11., 12., 13., 14., 15., 16.]])\n",
      "tensor([[ 0.,  0.,  6.,  0.,  0.,  0.,  0., 16.],\n",
      "        [ 0., 20., 22.,  0., 26., 28.,  0.,  0.]])\n",
      "tensor([[0., 0., 0., 0., 0., 0., 0., 0.],\n",
      "        [0., 0., 0., 0., 0., 0., 0., 0.]])\n"
     ]
    }
   ],
   "source": [
    "X = torch.arange(1, 17, dtype=torch.float32).reshape(2, 8)\n",
    "print(X)\n",
    "print(drop_out(X, 0))\n",
    "print(drop_out(X, 0.5))\n",
    "print(drop_out(X, 1))"
   ]
  },
  {
   "cell_type": "markdown",
   "id": "12bc51e4-05fc-4c56-803f-85d0d62fd73c",
   "metadata": {},
   "source": [
    "## ***AlexNet***"
   ]
  },
  {
   "cell_type": "code",
   "execution_count": 3,
   "id": "2b653fd2-a681-4546-91bb-f7cfd686d26e",
   "metadata": {
    "execution": {
     "iopub.execute_input": "2023-06-06T10:56:11.850535Z",
     "iopub.status.busy": "2023-06-06T10:56:11.850535Z",
     "iopub.status.idle": "2023-06-06T10:56:11.944962Z",
     "shell.execute_reply": "2023-06-06T10:56:11.944962Z",
     "shell.execute_reply.started": "2023-06-06T10:56:11.850535Z"
    },
    "tags": []
   },
   "outputs": [
    {
     "name": "stdout",
     "output_type": "stream",
     "text": [
      "Conv2d output: \n",
      " torch.Size([1, 96, 54, 54])\n",
      "BatchNorm2d output: \n",
      " torch.Size([1, 96, 54, 54])\n",
      "ReLU output: \n",
      " torch.Size([1, 96, 54, 54])\n",
      "MaxPool2d output: \n",
      " torch.Size([1, 96, 26, 26])\n",
      "Conv2d output: \n",
      " torch.Size([1, 256, 24, 24])\n",
      "BatchNorm2d output: \n",
      " torch.Size([1, 256, 24, 24])\n",
      "ReLU output: \n",
      " torch.Size([1, 256, 24, 24])\n",
      "MaxPool2d output: \n",
      " torch.Size([1, 256, 11, 11])\n",
      "Conv2d output: \n",
      " torch.Size([1, 384, 11, 11])\n",
      "ReLU output: \n",
      " torch.Size([1, 384, 11, 11])\n",
      "Conv2d output: \n",
      " torch.Size([1, 384, 11, 11])\n",
      "ReLU output: \n",
      " torch.Size([1, 384, 11, 11])\n",
      "Conv2d output: \n",
      " torch.Size([1, 256, 11, 11])\n",
      "ReLU output: \n",
      " torch.Size([1, 256, 11, 11])\n",
      "MaxPool2d output: \n",
      " torch.Size([1, 256, 5, 5])\n",
      "Flatten output: \n",
      " torch.Size([1, 6400])\n"
     ]
    }
   ],
   "source": [
    "net = nn.Sequential(\n",
    "    nn.Conv2d(1, 96, kernel_size=11, stride=4, padding=1), nn.BatchNorm2d(num_features=96), nn.ReLU(), nn.MaxPool2d(kernel_size=3, stride=2),\n",
    "    nn.Conv2d(96, 256, kernel_size=5, padding=1), nn.BatchNorm2d(num_features=256), nn.ReLU(), nn.MaxPool2d(kernel_size=3, stride=2),\n",
    "    nn.Conv2d(256, 384, kernel_size=3, padding=1), nn.ReLU(), \n",
    "    nn.Conv2d(384, 384, kernel_size=3, padding=1), nn.ReLU(),\n",
    "    nn.Conv2d(384, 256, kernel_size=3, padding=1),nn.ReLU(),\n",
    "    nn.MaxPool2d(kernel_size=3, stride=2),\n",
    "    nn.Flatten()\n",
    ")\n",
    "\n",
    "X = torch.randn(size=(1, 1, 224, 224))\n",
    "for layer in net:\n",
    "    X = layer(X)\n",
    "    print(layer.__class__.__name__, 'output: \\n', X.shape)"
   ]
  },
  {
   "cell_type": "code",
   "execution_count": 4,
   "id": "a07e63a4-dd51-4b46-ae3e-e0d195cb0b31",
   "metadata": {
    "execution": {
     "iopub.execute_input": "2023-06-06T10:56:47.816488Z",
     "iopub.status.busy": "2023-06-06T10:56:47.816488Z",
     "iopub.status.idle": "2023-06-06T10:56:47.877195Z",
     "shell.execute_reply": "2023-06-06T10:56:47.877195Z",
     "shell.execute_reply.started": "2023-06-06T10:56:47.816488Z"
    }
   },
   "outputs": [
    {
     "name": "stdout",
     "output_type": "stream",
     "text": [
      "Conv2d output: \n",
      " torch.Size([1, 96, 54, 54])\n",
      "BatchNorm2d output: \n",
      " torch.Size([1, 96, 54, 54])\n",
      "ReLU output: \n",
      " torch.Size([1, 96, 54, 54])\n",
      "MaxPool2d output: \n",
      " torch.Size([1, 96, 27, 27])\n",
      "Conv2d output: \n",
      " torch.Size([1, 256, 25, 25])\n",
      "BatchNorm2d output: \n",
      " torch.Size([1, 256, 25, 25])\n",
      "ReLU output: \n",
      " torch.Size([1, 256, 25, 25])\n",
      "MaxPool2d output: \n",
      " torch.Size([1, 256, 12, 12])\n",
      "Conv2d output: \n",
      " torch.Size([1, 384, 12, 12])\n",
      "ReLU output: \n",
      " torch.Size([1, 384, 12, 12])\n",
      "Conv2d output: \n",
      " torch.Size([1, 384, 12, 12])\n",
      "ReLU output: \n",
      " torch.Size([1, 384, 12, 12])\n",
      "Conv2d output: \n",
      " torch.Size([1, 256, 12, 12])\n",
      "ReLU output: \n",
      " torch.Size([1, 256, 12, 12])\n",
      "MaxPool2d output: \n",
      " torch.Size([1, 256, 6, 6])\n",
      "Flatten output: \n",
      " torch.Size([1, 9216])\n"
     ]
    }
   ],
   "source": [
    "\"\"\"\n",
    "当ceil_mode设置为True，即：如果尺寸不够，则自动填充向上取整\n",
    "\"\"\"\n",
    "\n",
    "net = nn.Sequential(\n",
    "    nn.Conv2d(1, 96, kernel_size=11, stride=4, padding=1), nn.BatchNorm2d(num_features=96), nn.ReLU(), nn.MaxPool2d(kernel_size=3, stride=2, ceil_mode=True),\n",
    "    nn.Conv2d(96, 256, kernel_size=5, padding=1), nn.BatchNorm2d(num_features=256), nn.ReLU(), nn.MaxPool2d(kernel_size=3, stride=2, ceil_mode=True),\n",
    "    nn.Conv2d(256, 384, kernel_size=3, padding=1), nn.ReLU(), \n",
    "    nn.Conv2d(384, 384, kernel_size=3, padding=1), nn.ReLU(),\n",
    "    nn.Conv2d(384, 256, kernel_size=3, padding=1),nn.ReLU(),\n",
    "    nn.MaxPool2d(kernel_size=3, stride=2, ceil_mode=True),\n",
    "    nn.Flatten()\n",
    ")\n",
    "\n",
    "X = torch.randn(size=(1, 1, 224, 224))\n",
    "for layer in net:\n",
    "    X = layer(X)\n",
    "    print(layer.__class__.__name__, 'output: \\n', X.shape)"
   ]
  },
  {
   "cell_type": "code",
   "execution_count": null,
   "id": "abb11b11-43e2-402b-bb37-e61b06f0a030",
   "metadata": {},
   "outputs": [],
   "source": []
  }
 ],
 "metadata": {
  "kernelspec": {
   "display_name": "torch2",
   "language": "python",
   "name": "torch2"
  },
  "language_info": {
   "codemirror_mode": {
    "name": "ipython",
    "version": 3
   },
   "file_extension": ".py",
   "mimetype": "text/x-python",
   "name": "python",
   "nbconvert_exporter": "python",
   "pygments_lexer": "ipython3",
   "version": "3.9.16"
  },
  "widgets": {
   "application/vnd.jupyter.widget-state+json": {
    "state": {},
    "version_major": 2,
    "version_minor": 0
   }
  }
 },
 "nbformat": 4,
 "nbformat_minor": 5
}
