{
 "cells": [
  {
   "cell_type": "code",
   "execution_count": 30,
   "id": "bd974a41-a7ed-4f0b-af2c-ce44172b5dd3",
   "metadata": {
    "execution": {
     "iopub.execute_input": "2023-04-18T08:54:25.850444Z",
     "iopub.status.busy": "2023-04-18T08:54:25.850444Z",
     "iopub.status.idle": "2023-04-18T08:54:25.859848Z",
     "shell.execute_reply": "2023-04-18T08:54:25.858963Z",
     "shell.execute_reply.started": "2023-04-18T08:54:25.850444Z"
    },
    "tags": []
   },
   "outputs": [],
   "source": [
    "import pandas as pd\n",
    "import numpy as np\n",
    "import matplotlib.pyplot as plt\n",
    "import re, os, sys"
   ]
  },
  {
   "cell_type": "code",
   "execution_count": 58,
   "id": "21ef0e74-a0d0-4853-acb0-e622170e33a2",
   "metadata": {
    "execution": {
     "iopub.execute_input": "2023-04-18T09:01:03.500338Z",
     "iopub.status.busy": "2023-04-18T09:01:03.500338Z",
     "iopub.status.idle": "2023-04-18T09:01:03.510935Z",
     "shell.execute_reply": "2023-04-18T09:01:03.510935Z",
     "shell.execute_reply.started": "2023-04-18T09:01:03.500338Z"
    },
    "tags": []
   },
   "outputs": [
    {
     "data": {
      "text/html": [
       "<div>\n",
       "<style scoped>\n",
       "    .dataframe tbody tr th:only-of-type {\n",
       "        vertical-align: middle;\n",
       "    }\n",
       "\n",
       "    .dataframe tbody tr th {\n",
       "        vertical-align: top;\n",
       "    }\n",
       "\n",
       "    .dataframe thead th {\n",
       "        text-align: right;\n",
       "    }\n",
       "</style>\n",
       "<table border=\"1\" class=\"dataframe\">\n",
       "  <thead>\n",
       "    <tr style=\"text-align: right;\">\n",
       "      <th></th>\n",
       "      <th>0</th>\n",
       "      <th>1</th>\n",
       "    </tr>\n",
       "  </thead>\n",
       "  <tbody>\n",
       "    <tr>\n",
       "      <th>0</th>\n",
       "      <td>12.54</td>\n",
       "      <td>-0.56</td>\n",
       "    </tr>\n",
       "    <tr>\n",
       "      <th>1</th>\n",
       "      <td>38.06</td>\n",
       "      <td>-0.42</td>\n",
       "    </tr>\n",
       "    <tr>\n",
       "      <th>2</th>\n",
       "      <td>12.35</td>\n",
       "      <td>-0.41</td>\n",
       "    </tr>\n",
       "    <tr>\n",
       "      <th>3</th>\n",
       "      <td>35.62</td>\n",
       "      <td>-0.39</td>\n",
       "    </tr>\n",
       "    <tr>\n",
       "      <th>4</th>\n",
       "      <td>15.96</td>\n",
       "      <td>-0.38</td>\n",
       "    </tr>\n",
       "    <tr>\n",
       "      <th>...</th>\n",
       "      <td>...</td>\n",
       "      <td>...</td>\n",
       "    </tr>\n",
       "    <tr>\n",
       "      <th>76</th>\n",
       "      <td>32.43</td>\n",
       "      <td>0.37</td>\n",
       "    </tr>\n",
       "    <tr>\n",
       "      <th>77</th>\n",
       "      <td>7.56</td>\n",
       "      <td>0.38</td>\n",
       "    </tr>\n",
       "    <tr>\n",
       "      <th>78</th>\n",
       "      <td>19.49</td>\n",
       "      <td>0.46</td>\n",
       "    </tr>\n",
       "    <tr>\n",
       "      <th>79</th>\n",
       "      <td>5.49</td>\n",
       "      <td>0.56</td>\n",
       "    </tr>\n",
       "    <tr>\n",
       "      <th>80</th>\n",
       "      <td>7.15</td>\n",
       "      <td>0.93</td>\n",
       "    </tr>\n",
       "  </tbody>\n",
       "</table>\n",
       "<p>81 rows × 2 columns</p>\n",
       "</div>"
      ],
      "text/plain": [
       "        0     1\n",
       "0   12.54 -0.56\n",
       "1   38.06 -0.42\n",
       "2   12.35 -0.41\n",
       "3   35.62 -0.39\n",
       "4   15.96 -0.38\n",
       "..    ...   ...\n",
       "76  32.43  0.37\n",
       "77   7.56  0.38\n",
       "78  19.49  0.46\n",
       "79   5.49  0.56\n",
       "80   7.15  0.93\n",
       "\n",
       "[81 rows x 2 columns]"
      ]
     },
     "execution_count": 58,
     "metadata": {},
     "output_type": "execute_result"
    }
   ],
   "source": [
    "data = pd.read_table('./data.txt', header=None) \n",
    "data = data.iloc[0: -1, :]\n",
    "data"
   ]
  },
  {
   "cell_type": "code",
   "execution_count": 59,
   "id": "fefd1722-f6a9-4990-bdc2-e4729892da0d",
   "metadata": {
    "execution": {
     "iopub.execute_input": "2023-04-18T09:01:35.587808Z",
     "iopub.status.busy": "2023-04-18T09:01:35.587808Z",
     "iopub.status.idle": "2023-04-18T09:01:35.594894Z",
     "shell.execute_reply": "2023-04-18T09:01:35.594894Z",
     "shell.execute_reply.started": "2023-04-18T09:01:35.587808Z"
    }
   },
   "outputs": [],
   "source": [
    "A, p = np.array(data.iloc[:,0]), np.array(data.iloc[:,1])\n",
    "\n",
    "colors = []\n",
    "for i in range(len(A)):\n",
    "    if p[i] <-0.1:\n",
    "        colors.append('red')\n",
    "    elif -0.1 <= p[i] <= 0:\n",
    "        colors.append('green')\n",
    "    elif 0<p[i]:\n",
    "        colors.append('gray')\n"
   ]
  },
  {
   "cell_type": "code",
   "execution_count": 73,
   "id": "d8dc6205-6fb7-4d64-886b-88433f2d14ab",
   "metadata": {
    "execution": {
     "iopub.execute_input": "2023-04-18T09:05:28.346457Z",
     "iopub.status.busy": "2023-04-18T09:05:28.346457Z",
     "iopub.status.idle": "2023-04-18T09:05:28.355205Z",
     "shell.execute_reply": "2023-04-18T09:05:28.355205Z",
     "shell.execute_reply.started": "2023-04-18T09:05:28.346457Z"
    },
    "tags": []
   },
   "outputs": [
    {
     "data": {
      "text/plain": [
       "array([12.54, 38.06, 12.35, 35.62, 15.96, 12.26, 34.26, 25.39, 23.7 ,\n",
       "       27.81, 14.54, 30.27, 31.89, 14.93, 29.76, 37.77, 27.67, 23.93,\n",
       "       12.42, 28.95, 26.76, 13.83, 28.16, 14.37, 26.95, 32.3 , 26.68,\n",
       "       17.37, 18.66,  5.91, 15.24, 14.73, 26.68, 16.06, 26.74, 31.8 ,\n",
       "       12.82, 17.42, 16.73, 27.61, 31.18, 16.14, 16.55, 26.48, 11.91,\n",
       "       21.92, 18.91, 15.42, 15.06, 26.46, 27.15, 20.86, 14.66, 17.34,\n",
       "       23.34, 14.84, 22.02, 15.93, 62.58, 15.89, 24.49, 28.78, 23.44,\n",
       "       22.71, 22.2 , 25.36, 12.84, 26.08, 20.25, 10.12, 11.9 ,  8.24,\n",
       "       15.86,  9.35, 24.77, 25.89, 32.43,  7.56, 19.49,  5.49,  7.15])"
      ]
     },
     "execution_count": 73,
     "metadata": {},
     "output_type": "execute_result"
    }
   ],
   "source": [
    "A"
   ]
  },
  {
   "cell_type": "code",
   "execution_count": 65,
   "id": "149c1f73-19b0-4c4a-a0d4-967ccd81a96a",
   "metadata": {
    "execution": {
     "iopub.execute_input": "2023-04-18T09:04:00.853229Z",
     "iopub.status.busy": "2023-04-18T09:04:00.852229Z",
     "iopub.status.idle": "2023-04-18T09:04:00.861735Z",
     "shell.execute_reply": "2023-04-18T09:04:00.861735Z",
     "shell.execute_reply.started": "2023-04-18T09:04:00.853229Z"
    },
    "tags": []
   },
   "outputs": [
    {
     "name": "stdout",
     "output_type": "stream",
     "text": [
      "81\n"
     ]
    }
   ],
   "source": [
    "Res = []\n",
    "for i in A:\n",
    "    Res.append(np.array([i]))\n",
    "print(len(Res))"
   ]
  },
  {
   "cell_type": "code",
   "execution_count": 87,
   "id": "a38c240f-68c8-49a7-aae9-148e22f0cd91",
   "metadata": {
    "execution": {
     "iopub.execute_input": "2023-04-18T09:10:18.772915Z",
     "iopub.status.busy": "2023-04-18T09:10:18.772915Z",
     "iopub.status.idle": "2023-04-18T09:10:18.885811Z",
     "shell.execute_reply": "2023-04-18T09:10:18.885811Z",
     "shell.execute_reply.started": "2023-04-18T09:10:18.772915Z"
    },
    "tags": []
   },
   "outputs": [
    {
     "data": {
      "text/plain": [
       "(array([2., 0., 2., 1., 0., 1., 1., 0., 0., 5., 3., 1., 2., 6., 6., 3., 3.,\n",
       "        0., 1., 2., 1., 1., 0., 3., 1., 3., 2., 1., 3., 3., 6., 3., 1., 2.,\n",
       "        1., 1., 1., 2., 2., 0., 1., 0., 1., 0., 0., 1., 1., 0., 0., 0., 0.,\n",
       "        0., 0., 0., 0., 0., 0., 0., 0., 0., 0., 0., 0., 0., 0., 0., 0., 0.,\n",
       "        0., 0., 0., 0., 0., 0., 0., 0., 0., 0., 0., 0., 1.]),\n",
       " array([ 5.49      ,  6.19481481,  6.89962963,  7.60444444,  8.30925926,\n",
       "         9.01407407,  9.71888889, 10.4237037 , 11.12851852, 11.83333333,\n",
       "        12.53814815, 13.24296296, 13.94777778, 14.65259259, 15.35740741,\n",
       "        16.06222222, 16.76703704, 17.47185185, 18.17666667, 18.88148148,\n",
       "        19.5862963 , 20.29111111, 20.99592593, 21.70074074, 22.40555556,\n",
       "        23.11037037, 23.81518519, 24.52      , 25.22481481, 25.92962963,\n",
       "        26.63444444, 27.33925926, 28.04407407, 28.74888889, 29.4537037 ,\n",
       "        30.15851852, 30.86333333, 31.56814815, 32.27296296, 32.97777778,\n",
       "        33.68259259, 34.38740741, 35.09222222, 35.79703704, 36.50185185,\n",
       "        37.20666667, 37.91148148, 38.6162963 , 39.32111111, 40.02592593,\n",
       "        40.73074074, 41.43555556, 42.14037037, 42.84518519, 43.55      ,\n",
       "        44.25481481, 44.95962963, 45.66444444, 46.36925926, 47.07407407,\n",
       "        47.77888889, 48.4837037 , 49.18851852, 49.89333333, 50.59814815,\n",
       "        51.30296296, 52.00777778, 52.71259259, 53.41740741, 54.12222222,\n",
       "        54.82703704, 55.53185185, 56.23666667, 56.94148148, 57.6462963 ,\n",
       "        58.35111111, 59.05592593, 59.76074074, 60.46555556, 61.17037037,\n",
       "        61.87518519, 62.58      ]),\n",
       " <BarContainer object of 81 artists>)"
      ]
     },
     "execution_count": 87,
     "metadata": {},
     "output_type": "execute_result"
    },
    {
     "data": {
      "image/png": "[encoded data removed]",
      "text/plain": [
       "<Figure size 640x480 with 1 Axes>"
      ]
     },
     "metadata": {},
     "output_type": "display_data"
    }
   ],
   "source": [
    "plt.hist(A, bins=81)\n",
    "# plt.legend()"
   ]
  },
  {
   "cell_type": "code",
   "execution_count": 61,
   "id": "4bd4b807-8009-43c0-9662-16f57bc24488",
   "metadata": {
    "execution": {
     "iopub.execute_input": "2023-04-18T09:02:21.220091Z",
     "iopub.status.busy": "2023-04-18T09:02:21.220091Z",
     "iopub.status.idle": "2023-04-18T09:02:21.361457Z",
     "shell.execute_reply": "2023-04-18T09:02:21.360677Z",
     "shell.execute_reply.started": "2023-04-18T09:02:21.220091Z"
    },
    "tags": []
   },
   "outputs": [
    {
     "ename": "ValueError",
     "evalue": "The 'color' keyword argument must have one color per dataset, but 1 datasets and 81 colors were provided",
     "output_type": "error",
     "traceback": [
      "\u001b[1;31m---------------------------------------------------------------------------\u001b[0m",
      "\u001b[1;31mValueError\u001b[0m                                Traceback (most recent call last)",
      "Cell \u001b[1;32mIn[61], line 1\u001b[0m\n\u001b[1;32m----> 1\u001b[0m \u001b[43mplt\u001b[49m\u001b[38;5;241;43m.\u001b[39;49m\u001b[43mhist\u001b[49m\u001b[43m(\u001b[49m\u001b[43mA\u001b[49m\u001b[43m,\u001b[49m\u001b[43m \u001b[49m\u001b[43mbins\u001b[49m\u001b[38;5;241;43m=\u001b[39;49m\u001b[38;5;241;43m20\u001b[39;49m\u001b[43m,\u001b[49m\u001b[43m \u001b[49m\u001b[43mcolor\u001b[49m\u001b[38;5;241;43m=\u001b[39;49m\u001b[43mcolors\u001b[49m\u001b[43m)\u001b[49m\n",
      "File \u001b[1;32mD:\\Anaconda3\\envs\\torch2\\lib\\site-packages\\matplotlib\\pyplot.py:2590\u001b[0m, in \u001b[0;36mhist\u001b[1;34m(x, bins, range, density, weights, cumulative, bottom, histtype, align, orientation, rwidth, log, color, label, stacked, data, **kwargs)\u001b[0m\n\u001b[0;32m   2584\u001b[0m \u001b[38;5;129m@_copy_docstring_and_deprecators\u001b[39m(Axes\u001b[38;5;241m.\u001b[39mhist)\n\u001b[0;32m   2585\u001b[0m \u001b[38;5;28;01mdef\u001b[39;00m \u001b[38;5;21mhist\u001b[39m(\n\u001b[0;32m   2586\u001b[0m         x, bins\u001b[38;5;241m=\u001b[39m\u001b[38;5;28;01mNone\u001b[39;00m, \u001b[38;5;28mrange\u001b[39m\u001b[38;5;241m=\u001b[39m\u001b[38;5;28;01mNone\u001b[39;00m, density\u001b[38;5;241m=\u001b[39m\u001b[38;5;28;01mFalse\u001b[39;00m, weights\u001b[38;5;241m=\u001b[39m\u001b[38;5;28;01mNone\u001b[39;00m,\n\u001b[0;32m   2587\u001b[0m         cumulative\u001b[38;5;241m=\u001b[39m\u001b[38;5;28;01mFalse\u001b[39;00m, bottom\u001b[38;5;241m=\u001b[39m\u001b[38;5;28;01mNone\u001b[39;00m, histtype\u001b[38;5;241m=\u001b[39m\u001b[38;5;124m'\u001b[39m\u001b[38;5;124mbar\u001b[39m\u001b[38;5;124m'\u001b[39m, align\u001b[38;5;241m=\u001b[39m\u001b[38;5;124m'\u001b[39m\u001b[38;5;124mmid\u001b[39m\u001b[38;5;124m'\u001b[39m,\n\u001b[0;32m   2588\u001b[0m         orientation\u001b[38;5;241m=\u001b[39m\u001b[38;5;124m'\u001b[39m\u001b[38;5;124mvertical\u001b[39m\u001b[38;5;124m'\u001b[39m, rwidth\u001b[38;5;241m=\u001b[39m\u001b[38;5;28;01mNone\u001b[39;00m, log\u001b[38;5;241m=\u001b[39m\u001b[38;5;28;01mFalse\u001b[39;00m, color\u001b[38;5;241m=\u001b[39m\u001b[38;5;28;01mNone\u001b[39;00m,\n\u001b[0;32m   2589\u001b[0m         label\u001b[38;5;241m=\u001b[39m\u001b[38;5;28;01mNone\u001b[39;00m, stacked\u001b[38;5;241m=\u001b[39m\u001b[38;5;28;01mFalse\u001b[39;00m, \u001b[38;5;241m*\u001b[39m, data\u001b[38;5;241m=\u001b[39m\u001b[38;5;28;01mNone\u001b[39;00m, \u001b[38;5;241m*\u001b[39m\u001b[38;5;241m*\u001b[39mkwargs):\n\u001b[1;32m-> 2590\u001b[0m     \u001b[38;5;28;01mreturn\u001b[39;00m gca()\u001b[38;5;241m.\u001b[39mhist(\n\u001b[0;32m   2591\u001b[0m         x, bins\u001b[38;5;241m=\u001b[39mbins, \u001b[38;5;28mrange\u001b[39m\u001b[38;5;241m=\u001b[39m\u001b[38;5;28mrange\u001b[39m, density\u001b[38;5;241m=\u001b[39mdensity, weights\u001b[38;5;241m=\u001b[39mweights,\n\u001b[0;32m   2592\u001b[0m         cumulative\u001b[38;5;241m=\u001b[39mcumulative, bottom\u001b[38;5;241m=\u001b[39mbottom, histtype\u001b[38;5;241m=\u001b[39mhisttype,\n\u001b[0;32m   2593\u001b[0m         align\u001b[38;5;241m=\u001b[39malign, orientation\u001b[38;5;241m=\u001b[39morientation, rwidth\u001b[38;5;241m=\u001b[39mrwidth, log\u001b[38;5;241m=\u001b[39mlog,\n\u001b[0;32m   2594\u001b[0m         color\u001b[38;5;241m=\u001b[39mcolor, label\u001b[38;5;241m=\u001b[39mlabel, stacked\u001b[38;5;241m=\u001b[39mstacked,\n\u001b[0;32m   2595\u001b[0m         \u001b[38;5;241m*\u001b[39m\u001b[38;5;241m*\u001b[39m({\u001b[38;5;124m\"\u001b[39m\u001b[38;5;124mdata\u001b[39m\u001b[38;5;124m\"\u001b[39m: data} \u001b[38;5;28;01mif\u001b[39;00m data \u001b[38;5;129;01mis\u001b[39;00m \u001b[38;5;129;01mnot\u001b[39;00m \u001b[38;5;28;01mNone\u001b[39;00m \u001b[38;5;28;01melse\u001b[39;00m {}), \u001b[38;5;241m*\u001b[39m\u001b[38;5;241m*\u001b[39mkwargs)\n",
      "File \u001b[1;32mD:\\Anaconda3\\envs\\torch2\\lib\\site-packages\\matplotlib\\__init__.py:1412\u001b[0m, in \u001b[0;36m_preprocess_data.<locals>.inner\u001b[1;34m(ax, data, *args, **kwargs)\u001b[0m\n\u001b[0;32m   1409\u001b[0m \u001b[38;5;129m@functools\u001b[39m\u001b[38;5;241m.\u001b[39mwraps(func)\n\u001b[0;32m   1410\u001b[0m \u001b[38;5;28;01mdef\u001b[39;00m \u001b[38;5;21minner\u001b[39m(ax, \u001b[38;5;241m*\u001b[39margs, data\u001b[38;5;241m=\u001b[39m\u001b[38;5;28;01mNone\u001b[39;00m, \u001b[38;5;241m*\u001b[39m\u001b[38;5;241m*\u001b[39mkwargs):\n\u001b[0;32m   1411\u001b[0m     \u001b[38;5;28;01mif\u001b[39;00m data \u001b[38;5;129;01mis\u001b[39;00m \u001b[38;5;28;01mNone\u001b[39;00m:\n\u001b[1;32m-> 1412\u001b[0m         \u001b[38;5;28;01mreturn\u001b[39;00m func(ax, \u001b[38;5;241m*\u001b[39m\u001b[38;5;28mmap\u001b[39m(sanitize_sequence, args), \u001b[38;5;241m*\u001b[39m\u001b[38;5;241m*\u001b[39mkwargs)\n\u001b[0;32m   1414\u001b[0m     bound \u001b[38;5;241m=\u001b[39m new_sig\u001b[38;5;241m.\u001b[39mbind(ax, \u001b[38;5;241m*\u001b[39margs, \u001b[38;5;241m*\u001b[39m\u001b[38;5;241m*\u001b[39mkwargs)\n\u001b[0;32m   1415\u001b[0m     auto_label \u001b[38;5;241m=\u001b[39m (bound\u001b[38;5;241m.\u001b[39marguments\u001b[38;5;241m.\u001b[39mget(label_namer)\n\u001b[0;32m   1416\u001b[0m                   \u001b[38;5;129;01mor\u001b[39;00m bound\u001b[38;5;241m.\u001b[39mkwargs\u001b[38;5;241m.\u001b[39mget(label_namer))\n",
      "File \u001b[1;32mD:\\Anaconda3\\envs\\torch2\\lib\\site-packages\\matplotlib\\axes\\_axes.py:6595\u001b[0m, in \u001b[0;36mAxes.hist\u001b[1;34m(self, x, bins, range, density, weights, cumulative, bottom, histtype, align, orientation, rwidth, log, color, label, stacked, **kwargs)\u001b[0m\n\u001b[0;32m   6593\u001b[0m     color \u001b[38;5;241m=\u001b[39m mcolors\u001b[38;5;241m.\u001b[39mto_rgba_array(color)\n\u001b[0;32m   6594\u001b[0m     \u001b[38;5;28;01mif\u001b[39;00m \u001b[38;5;28mlen\u001b[39m(color) \u001b[38;5;241m!=\u001b[39m nx:\n\u001b[1;32m-> 6595\u001b[0m         \u001b[38;5;28;01mraise\u001b[39;00m \u001b[38;5;167;01mValueError\u001b[39;00m(\u001b[38;5;124mf\u001b[39m\u001b[38;5;124m\"\u001b[39m\u001b[38;5;124mThe \u001b[39m\u001b[38;5;124m'\u001b[39m\u001b[38;5;124mcolor\u001b[39m\u001b[38;5;124m'\u001b[39m\u001b[38;5;124m keyword argument must have one \u001b[39m\u001b[38;5;124m\"\u001b[39m\n\u001b[0;32m   6596\u001b[0m                          \u001b[38;5;124mf\u001b[39m\u001b[38;5;124m\"\u001b[39m\u001b[38;5;124mcolor per dataset, but \u001b[39m\u001b[38;5;132;01m{\u001b[39;00mnx\u001b[38;5;132;01m}\u001b[39;00m\u001b[38;5;124m datasets and \u001b[39m\u001b[38;5;124m\"\u001b[39m\n\u001b[0;32m   6597\u001b[0m                          \u001b[38;5;124mf\u001b[39m\u001b[38;5;124m\"\u001b[39m\u001b[38;5;132;01m{\u001b[39;00m\u001b[38;5;28mlen\u001b[39m(color)\u001b[38;5;132;01m}\u001b[39;00m\u001b[38;5;124m colors were provided\u001b[39m\u001b[38;5;124m\"\u001b[39m)\n\u001b[0;32m   6599\u001b[0m hist_kwargs \u001b[38;5;241m=\u001b[39m \u001b[38;5;28mdict\u001b[39m()\n\u001b[0;32m   6601\u001b[0m \u001b[38;5;66;03m# if the bin_range is not given, compute without nan numpy\u001b[39;00m\n\u001b[0;32m   6602\u001b[0m \u001b[38;5;66;03m# does not do this for us when guessing the range (but will\u001b[39;00m\n\u001b[0;32m   6603\u001b[0m \u001b[38;5;66;03m# happily ignore nans when computing the histogram).\u001b[39;00m\n",
      "\u001b[1;31mValueError\u001b[0m: The 'color' keyword argument must have one color per dataset, but 1 datasets and 81 colors were provided"
     ]
    },
    {
     "data": {
      "image/png": "[encoded data removed]",
      "text/plain": [
       "<Figure size 640x480 with 1 Axes>"
      ]
     },
     "metadata": {},
     "output_type": "display_data"
    }
   ],
   "source": [
    "plt.hist(A, bins=20, color=colors)"
   ]
  },
  {
   "cell_type": "code",
   "execution_count": 33,
   "id": "af0dd276-c0ef-4f77-99c7-3b036d8b8503",
   "metadata": {
    "execution": {
     "iopub.execute_input": "2023-04-18T08:54:31.359006Z",
     "iopub.status.busy": "2023-04-18T08:54:31.359006Z",
     "iopub.status.idle": "2023-04-18T08:54:31.368961Z",
     "shell.execute_reply": "2023-04-18T08:54:31.368961Z",
     "shell.execute_reply.started": "2023-04-18T08:54:31.359006Z"
    },
    "tags": []
   },
   "outputs": [],
   "source": [
    "# plt.hist(data.iloc[:,0], bins)"
   ]
  },
  {
   "cell_type": "code",
   "execution_count": 47,
   "id": "deae95a8-9e99-470b-a17c-e3c736076ae4",
   "metadata": {
    "execution": {
     "iopub.execute_input": "2023-04-18T08:56:47.058934Z",
     "iopub.status.busy": "2023-04-18T08:56:47.058934Z",
     "iopub.status.idle": "2023-04-18T08:56:47.069033Z",
     "shell.execute_reply": "2023-04-18T08:56:47.069033Z",
     "shell.execute_reply.started": "2023-04-18T08:56:47.058934Z"
    },
    "tags": []
   },
   "outputs": [
    {
     "name": "stdout",
     "output_type": "stream",
     "text": [
      "['red', 'red', 'red', 'red', 'red', 'red', 'red', 'red', 'red', 'red', 'red', 'red', 'red', 'red', 'red', 'red', 'red', 'red', 'red', 'red', 'red', 'red', 'red', 'red', 'red', 'red', 'red', 'red', 'red', 'red', 'red', 'red', 'red', 'red', 'red', 'red', 'red', 'red', 'red', 'red', 'red', 'red', 'red', 'red', 'green', 'green', 'green', 'green', 'green', 'green', 'green', 'green', 'green', 'green', 'green', 'green', 'green', 'green', 'green', 'green', 'green', 'green', 'green', 'green', 'green', 'green', 'green', 'gray', 'gray', 'gray', 'gray', 'gray', 'gray', 'gray', 'gray', 'gray', 'gray', 'gray', 'gray', 'gray', 'gray']\n"
     ]
    }
   ],
   "source": [
    "A, p = data.iloc[:,0], data.iloc[:,1]\n",
    "\n",
    "colors = []\n",
    "for i in range(len(A)):\n",
    "    if p[i] <-0.1:\n",
    "        colors.append('red')\n",
    "    elif -0.1 <= p[i] <= 0:\n",
    "        colors.append('green')\n",
    "    elif 0<p[i]:\n",
    "        colors.append('gray')\n",
    "\n",
    "print(colors)"
   ]
  },
  {
   "cell_type": "code",
   "execution_count": 48,
   "id": "725c4d3a-f7ac-455b-a0e8-4ffc3713733f",
   "metadata": {
    "execution": {
     "iopub.execute_input": "2023-04-18T08:56:50.657214Z",
     "iopub.status.busy": "2023-04-18T08:56:50.656226Z",
     "iopub.status.idle": "2023-04-18T08:56:50.664101Z",
     "shell.execute_reply": "2023-04-18T08:56:50.664101Z",
     "shell.execute_reply.started": "2023-04-18T08:56:50.657214Z"
    },
    "tags": []
   },
   "outputs": [
    {
     "data": {
      "text/plain": [
       "81"
      ]
     },
     "execution_count": 48,
     "metadata": {},
     "output_type": "execute_result"
    }
   ],
   "source": [
    "len(A)"
   ]
  },
  {
   "cell_type": "code",
   "execution_count": 55,
   "id": "dad114cb-982f-4ccb-a005-4bed5f5e0b7d",
   "metadata": {
    "execution": {
     "iopub.execute_input": "2023-04-18T08:58:32.760166Z",
     "iopub.status.busy": "2023-04-18T08:58:32.760166Z",
     "iopub.status.idle": "2023-04-18T08:58:32.788651Z",
     "shell.execute_reply": "2023-04-18T08:58:32.788143Z",
     "shell.execute_reply.started": "2023-04-18T08:58:32.760166Z"
    },
    "tags": []
   },
   "outputs": [
    {
     "ename": "TypeError",
     "evalue": "bar() missing 1 required positional argument: 'height'",
     "output_type": "error",
     "traceback": [
      "\u001b[1;31m---------------------------------------------------------------------------\u001b[0m",
      "\u001b[1;31mTypeError\u001b[0m                                 Traceback (most recent call last)",
      "Cell \u001b[1;32mIn[55], line 2\u001b[0m\n\u001b[0;32m      1\u001b[0m \u001b[38;5;28;01mfor\u001b[39;00m i \u001b[38;5;129;01min\u001b[39;00m \u001b[38;5;28mrange\u001b[39m(\u001b[38;5;28mlen\u001b[39m(A)):\n\u001b[1;32m----> 2\u001b[0m     \u001b[43mplt\u001b[49m\u001b[38;5;241;43m.\u001b[39;49m\u001b[43mbar\u001b[49m\u001b[43m(\u001b[49m\u001b[43mA\u001b[49m\u001b[43m[\u001b[49m\u001b[43mi\u001b[49m\u001b[43m]\u001b[49m\u001b[43m,\u001b[49m\u001b[43m \u001b[49m\u001b[43malpha\u001b[49m\u001b[38;5;241;43m=\u001b[39;49m\u001b[38;5;241;43m0.8\u001b[39;49m\u001b[43m,\u001b[49m\u001b[43m \u001b[49m\u001b[43mcolor\u001b[49m\u001b[38;5;241;43m=\u001b[39;49m\u001b[43mcolors\u001b[49m\u001b[43m[\u001b[49m\u001b[43mi\u001b[49m\u001b[43m]\u001b[49m\u001b[43m)\u001b[49m\n",
      "\u001b[1;31mTypeError\u001b[0m: bar() missing 1 required positional argument: 'height'"
     ]
    }
   ],
   "source": [
    "for i in range(len(A)):\n",
    "    plt.(A[i], alpha=0.8, color=colors[i])"
   ]
  },
  {
   "cell_type": "code",
   "execution_count": 49,
   "id": "8b2a3caa-84a6-4661-a0ce-590e5965f61f",
   "metadata": {
    "execution": {
     "iopub.execute_input": "2023-04-18T08:56:55.199877Z",
     "iopub.status.busy": "2023-04-18T08:56:55.198870Z",
     "iopub.status.idle": "2023-04-18T08:56:55.372690Z",
     "shell.execute_reply": "2023-04-18T08:56:55.372690Z",
     "shell.execute_reply.started": "2023-04-18T08:56:55.199877Z"
    },
    "tags": []
   },
   "outputs": [
    {
     "data": {
      "image/png": "[encoded data removed]",
      "text/plain": [
       "<Figure size 640x480 with 1 Axes>"
      ]
     },
     "metadata": {},
     "output_type": "display_data"
    }
   ],
   "source": [
    "fig, ax = plt.subplots()\n",
    "\n",
    "bars = ax.hist(A, bins=100, edgecolor='black', alpha=0.8, density=False)\n",
    "# print(bars)\n",
    "for i in range(len(A)):\n",
    "    bars[2][i].set_color(colors[i])"
   ]
  },
  {
   "cell_type": "code",
   "execution_count": 19,
   "id": "ec25b358-4cf7-4f3d-a78c-03d4ccb5d988",
   "metadata": {
    "execution": {
     "iopub.execute_input": "2023-04-18T08:45:51.445723Z",
     "iopub.status.busy": "2023-04-18T08:45:51.445723Z",
     "iopub.status.idle": "2023-04-18T08:45:51.459176Z",
     "shell.execute_reply": "2023-04-18T08:45:51.458738Z",
     "shell.execute_reply.started": "2023-04-18T08:45:51.445723Z"
    }
   },
   "outputs": [
    {
     "data": {
      "text/plain": [
       "(array([2., 3., 1., 1., 6., 3., 9., 8., 3., 3., 2., 3., 5., 4., 8., 6., 2.,\n",
       "        3., 4., 0., 1., 1., 2., 0., 0., 0., 0., 0., 0., 0., 0., 0., 0., 0.,\n",
       "        0., 0., 0., 0., 0., 1.]),\n",
       " array([ 5.49   ,  6.91725,  8.3445 ,  9.77175, 11.199  , 12.62625,\n",
       "        14.0535 , 15.48075, 16.908  , 18.33525, 19.7625 , 21.18975,\n",
       "        22.617  , 24.04425, 25.4715 , 26.89875, 28.326  , 29.75325,\n",
       "        31.1805 , 32.60775, 34.035  , 35.46225, 36.8895 , 38.31675,\n",
       "        39.744  , 41.17125, 42.5985 , 44.02575, 45.453  , 46.88025,\n",
       "        48.3075 , 49.73475, 51.162  , 52.58925, 54.0165 , 55.44375,\n",
       "        56.871  , 58.29825, 59.7255 , 61.15275, 62.58   ]),\n",
       " <BarContainer object of 40 artists>)"
      ]
     },
     "execution_count": 19,
     "metadata": {},
     "output_type": "execute_result"
    }
   ],
   "source": [
    "bars"
   ]
  },
  {
   "cell_type": "code",
   "execution_count": 56,
   "id": "b5ca923a-a911-4d5b-9132-5cb31140d176",
   "metadata": {
    "execution": {
     "iopub.execute_input": "2023-04-18T09:00:35.093346Z",
     "iopub.status.busy": "2023-04-18T09:00:35.092346Z",
     "iopub.status.idle": "2023-04-18T09:00:35.175743Z",
     "shell.execute_reply": "2023-04-18T09:00:35.175743Z",
     "shell.execute_reply.started": "2023-04-18T09:00:35.093346Z"
    }
   },
   "outputs": [
    {
     "data": {
      "image/png": "[encoded data removed]",
      "text/plain": [
       "<Figure size 640x480 with 1 Axes>"
      ]
     },
     "metadata": {},
     "output_type": "display_data"
    }
   ],
   "source": [
    "data1 = np.random.normal(0, 1, 1000)\n",
    "data2 = np.random.normal(2, 1, 1000)\n",
    "\n",
    "# Define the colors for the histograms\n",
    "colors = ['blue', 'green']\n",
    "\n",
    "# Plot the histograms with different colors\n",
    "plt.hist([data1, data2], bins=20, color=colors)\n",
    "\n",
    "# Add a legend to the plot\n",
    "plt.legend(['Data 1', 'Data 2'])\n",
    "\n",
    "# Show the plot\n",
    "plt.show()"
   ]
  },
  {
   "cell_type": "code",
   "execution_count": 57,
   "id": "796b84ec-56fb-40da-a308-b4cc0f8b9d18",
   "metadata": {
    "execution": {
     "iopub.execute_input": "2023-04-18T09:00:50.740202Z",
     "iopub.status.busy": "2023-04-18T09:00:50.740202Z",
     "iopub.status.idle": "2023-04-18T09:00:50.755949Z",
     "shell.execute_reply": "2023-04-18T09:00:50.755949Z",
     "shell.execute_reply.started": "2023-04-18T09:00:50.740202Z"
    }
   },
   "outputs": [
    {
     "data": {
      "text/plain": [
       "array([ 8.83348320e-01, -3.11050824e-01, -5.74335474e-01,  1.08730917e+00,\n",
       "        2.91629785e-01, -1.23648844e+00,  3.33835531e-01, -1.16721063e+00,\n",
       "        1.56122934e+00, -2.33215867e-01,  7.44410626e-01,  1.12410202e+00,\n",
       "       -2.73578004e-01,  5.56996321e-01,  2.14768892e+00,  1.70998866e-01,\n",
       "        6.47195222e-01, -7.25745807e-01,  5.85973779e-01,  5.40235582e-01,\n",
       "       -9.08809579e-01, -1.83990160e+00,  2.38605781e-01,  4.98952285e-01,\n",
       "       -3.68406637e-01,  2.28424001e-02,  3.17022076e-01, -5.84191234e-01,\n",
       "        2.59660770e+00, -9.76532740e-01,  3.98104141e-01, -2.95540895e-01,\n",
       "       -2.76116727e+00,  2.31964994e+00,  7.01041477e-01,  9.05754721e-02,\n",
       "        7.04513141e-01, -3.07269121e-01,  1.49403824e+00,  5.08854253e-01,\n",
       "       -1.08736914e+00, -1.49580501e-01, -1.47808235e+00,  1.65033391e-01,\n",
       "       -6.65199267e-01, -1.76451847e+00, -7.54124642e-01, -6.41998539e-01,\n",
       "        4.25346810e-01, -3.31823832e-01, -7.40649880e-01, -5.31991443e-01,\n",
       "        8.30229911e-01, -1.36067175e-01, -1.01584165e+00,  2.87447768e-01,\n",
       "        6.93105272e-01, -1.97060049e+00, -6.73162552e-01, -3.42103187e-01,\n",
       "        1.64031363e-01,  3.82469525e-02,  8.95845169e-01,  4.16527405e-01,\n",
       "       -9.31233953e-03, -2.00781942e-01,  1.27937309e+00, -2.67676022e-01,\n",
       "        5.97298658e-01, -7.74760818e-01,  1.29576878e+00,  5.57941855e-01,\n",
       "        1.64672772e+00, -1.02212431e+00, -6.58819614e-01,  1.18768211e+00,\n",
       "       -6.49339714e-01, -1.32296977e+00,  1.23975647e+00, -4.00543219e-01,\n",
       "       -2.52140063e-03, -1.81072540e+00,  9.29035780e-01,  8.22839673e-01,\n",
       "       -1.02370281e+00, -4.51354147e-01, -9.83674374e-01, -1.85185304e+00,\n",
       "       -9.16780662e-01,  9.84068780e-04,  7.66162992e-01, -3.63272655e-01,\n",
       "        5.29621906e-01, -6.37670615e-01,  3.15654388e-01, -2.17106527e-02,\n",
       "        1.68893123e+00,  4.77300277e-02, -1.22615066e-01,  6.00921911e-01,\n",
       "       -6.89520115e-02, -9.30555217e-01, -7.67256896e-01, -1.55693698e+00,\n",
       "        1.63196224e+00,  2.46932415e-01, -1.49467284e-01,  1.18500144e+00,\n",
       "       -5.45273016e-01, -4.83103934e-01,  1.01094182e+00,  1.10629097e+00,\n",
       "        3.51585412e-01, -2.85312483e-01,  1.16770977e+00,  3.52291540e-01,\n",
       "        2.34177211e+00,  2.84670781e-01, -1.44170713e+00,  3.04596964e-01,\n",
       "        5.09145041e-01, -1.38168461e+00, -1.17368581e+00,  8.26756151e-02,\n",
       "       -1.51034257e+00, -1.07937987e+00, -5.38258265e-01, -1.34831837e+00,\n",
       "        1.24092511e-01, -9.88959052e-01, -1.41818771e+00, -1.78681290e-01,\n",
       "        3.71630965e-01,  1.23346684e+00,  9.31621734e-01,  4.72398936e-01,\n",
       "       -1.04145718e-01, -1.27083863e+00,  3.43139770e-01,  9.16160688e-02,\n",
       "        2.06660910e+00, -4.38068900e-01, -2.49264249e-01,  1.20063093e+00,\n",
       "        1.42687639e+00, -7.45865641e-01,  3.18605179e+00, -7.47978110e-01,\n",
       "       -1.07647865e+00, -1.53755801e+00, -2.06011927e+00, -3.92217612e-01,\n",
       "       -7.48984701e-01,  1.13556969e-02,  2.88061656e-01,  5.58867523e-01,\n",
       "       -1.49279725e-01,  2.31972412e+00,  2.99431334e-01, -4.41299902e-01,\n",
       "       -9.76197998e-02, -9.15266713e-01, -1.61110320e+00, -3.51356816e-01,\n",
       "        1.36877400e-01,  1.25116217e-01, -1.31001567e+00,  2.06138926e+00,\n",
       "        2.35270845e-01,  1.01052280e+00, -8.88793756e-01, -4.45820665e-01,\n",
       "        1.17971153e+00, -1.63975411e+00, -1.62535700e+00,  1.08004095e+00,\n",
       "        4.15326004e-01, -1.98011879e+00,  6.11122125e-01,  6.20143974e-01,\n",
       "       -7.08631360e-01,  7.32156087e-01, -2.73866841e-01,  4.13171075e-01,\n",
       "       -1.03754728e+00, -1.20635352e+00,  1.55312876e+00, -1.56216402e+00,\n",
       "       -8.02834409e-01,  4.07120465e-01, -5.56886853e-01, -1.91219246e+00,\n",
       "       -4.76111947e-01, -3.90876644e-01, -9.13443326e-01, -1.11976582e+00,\n",
       "       -2.59410038e-01, -4.58214197e-01, -1.52303679e-01, -3.50750128e-01,\n",
       "       -3.61978674e-01, -3.76250199e-01,  7.87932545e-01,  6.87429884e-02,\n",
       "        2.64776399e-01,  2.67729699e-01, -1.37887819e+00,  1.29110596e+00,\n",
       "       -1.01000590e+00, -1.90169666e+00, -5.97314100e-02, -6.08045485e-01,\n",
       "       -9.94557692e-01,  8.26442835e-01,  1.63981168e+00,  1.41044149e-01,\n",
       "       -6.15520387e-01,  7.98444058e-01, -2.75052382e-01, -4.00270299e-01,\n",
       "       -1.54371406e-02,  6.32624683e-02,  6.72959252e-01,  1.52871939e+00,\n",
       "        7.93838617e-01,  1.04821556e+00,  6.26407784e-01,  1.33363765e-01,\n",
       "       -2.90974037e-01, -1.70019979e+00,  2.67463487e-01, -1.23650214e+00,\n",
       "       -2.27058655e-01, -5.21538712e-01, -1.64811315e+00,  3.92572403e-01,\n",
       "        1.06221130e+00, -1.54480784e+00, -9.11250769e-01,  4.11054662e-01,\n",
       "        8.03964843e-01, -4.08999024e-01, -2.86051449e+00,  8.83762783e-01,\n",
       "        2.00945896e-01, -3.17681886e-01,  9.74736327e-01, -8.37936180e-01,\n",
       "       -1.35357141e+00,  2.37376824e+00, -1.24547212e+00, -7.13048300e-02,\n",
       "        1.05810196e+00, -8.85638654e-01, -1.15385586e+00,  6.66675810e-01,\n",
       "        1.71653157e+00, -3.51495099e-01,  1.16885420e-01,  1.34682920e+00,\n",
       "        1.31840851e+00, -9.84899587e-01,  7.39322639e-01,  2.10954073e-01,\n",
       "        1.55840578e+00,  1.58479120e+00, -1.03025435e+00, -9.14639420e-01,\n",
       "        2.29964053e-01,  1.37358054e+00,  1.59253934e+00, -1.24661434e+00,\n",
       "       -1.23180562e+00,  2.46967263e-01, -4.97851811e-01, -1.02356156e-01,\n",
       "        8.07809199e-01, -6.33962315e-01,  9.53148880e-01,  1.10700287e+00,\n",
       "       -1.63610296e+00,  9.03354017e-01, -2.05375820e+00,  2.31999289e-01,\n",
       "        2.89400591e-01,  3.83907490e-01,  2.14252197e+00, -1.17873080e-01,\n",
       "       -5.16795090e-01,  1.19141783e+00, -1.38960888e-01, -5.12612621e-01,\n",
       "       -6.84353942e-01, -7.23039700e-01,  4.12312746e-01, -3.32154979e-01,\n",
       "        1.19415260e-01,  2.93541058e-01,  1.19395572e+00, -2.13307104e+00,\n",
       "        1.28727157e+00,  3.63681715e-01, -1.15783790e+00, -6.48512877e-03,\n",
       "       -4.93448185e-01,  7.67178099e-01,  6.21624609e-01,  1.23490135e+00,\n",
       "       -1.88027012e+00, -1.23751291e+00, -3.84880429e-01, -2.44716183e-01,\n",
       "       -7.13043797e-01,  2.38517783e-01,  1.73384048e+00,  1.34280249e+00,\n",
       "       -3.26176934e-01,  1.44036630e+00,  7.56887778e-01, -8.29654110e-01,\n",
       "        1.46983664e+00,  1.14518842e+00,  5.31767330e-01, -1.14549460e-01,\n",
       "       -5.30704766e-01,  4.45862671e-01, -5.92655323e-02, -1.51885829e+00,\n",
       "       -2.90997642e-01,  1.46436958e+00, -1.66781229e+00, -6.49735813e-01,\n",
       "        7.28344894e-01,  2.58388019e-01,  1.30569491e+00,  2.59196234e-01,\n",
       "       -6.00121726e-01, -2.51305870e+00,  1.14546770e+00,  1.15284169e+00,\n",
       "       -1.05615711e+00, -9.76743686e-01, -4.13606956e-01, -1.38715507e+00,\n",
       "        1.44323767e+00, -7.13087034e-01, -7.25766182e-01,  7.57563383e-01,\n",
       "       -1.14512616e+00, -1.99344150e-01,  1.34927466e+00, -4.10670235e-01,\n",
       "        8.43231476e-01, -2.24472031e-01, -2.55340348e+00, -4.17336841e-01,\n",
       "        1.49752014e+00, -8.19346476e-01,  2.62773046e-01,  6.46836533e-01,\n",
       "        1.57671892e+00,  4.96283729e-02,  1.51650607e+00, -1.38321334e+00,\n",
       "        4.15294333e-01,  1.85372220e-01, -1.16838584e+00, -1.63940842e-01,\n",
       "       -4.92594966e-01, -2.30433733e-01,  8.20284926e-01, -6.31496134e-01,\n",
       "        1.71101592e+00,  3.19102788e-01,  3.82731316e-01, -2.22693121e-01,\n",
       "        2.95031235e-01,  1.72355133e+00,  2.70557447e-01,  2.65061907e-01,\n",
       "       -2.26486842e+00, -3.73566193e-01,  2.28566412e+00, -5.80621374e-01,\n",
       "       -3.30350961e-01,  6.63228343e-01,  2.12979261e+00, -3.85937711e-01,\n",
       "       -3.16613221e-01, -2.43328454e-01, -1.68889026e+00, -1.33206014e+00,\n",
       "       -2.85605404e-01, -1.26751475e+00, -8.88228569e-01,  4.36786738e-01,\n",
       "        2.59609363e-01,  1.59449838e+00,  7.31840284e-01, -1.41313010e+00,\n",
       "       -1.31396240e+00, -4.07008153e-01,  1.19169086e+00, -1.45839295e+00,\n",
       "        1.25007867e-01, -5.03835691e-01, -5.70150348e-01,  2.76430310e-01,\n",
       "        1.62222006e+00, -1.29752764e-01, -6.37529935e-01, -1.96090445e+00,\n",
       "       -8.10332392e-01,  5.55657282e-01,  1.52851498e+00,  9.59148558e-01,\n",
       "        8.76696016e-01, -1.49183164e+00, -4.84290825e-01,  1.03634640e+00,\n",
       "        2.30510670e-02, -1.25051761e+00, -9.95044625e-02,  7.23786685e-01,\n",
       "       -9.75743974e-01, -1.14753088e+00,  7.84437762e-01, -2.25982446e-01,\n",
       "       -5.39848774e-01,  1.65566253e+00,  1.13305859e+00,  7.94151929e-01,\n",
       "        2.73522429e-01, -1.03259824e+00,  7.47346956e-02, -2.30002789e-01,\n",
       "       -1.25685854e+00,  1.01362342e+00, -7.41521924e-02, -1.51253897e+00,\n",
       "        8.25023034e-01, -6.26432596e-01, -1.21198872e+00, -2.44571510e+00,\n",
       "       -5.36789224e-01,  8.48317562e-01,  4.74766127e-01, -4.97225580e-01,\n",
       "       -7.80318599e-01,  3.49493308e-01, -6.42938659e-01, -1.91369905e+00,\n",
       "        5.69132429e-01,  1.39200790e+00, -8.27664735e-01, -4.11508843e-01,\n",
       "        3.03478103e-01, -1.50819079e-01,  1.52518309e-01,  1.11286189e+00,\n",
       "       -2.40177010e-01, -1.00097652e+00,  7.99594745e-01,  1.23337602e+00,\n",
       "        2.50792351e+00, -3.00679728e-01, -9.51689738e-01, -1.46002016e+00,\n",
       "        1.02217655e+00, -9.93378119e-01, -2.59641456e+00,  7.81913699e-01,\n",
       "        5.70781447e-01,  1.05169717e+00,  9.97068386e-01,  1.03814829e+00,\n",
       "        1.48633555e-01,  7.36514234e-01,  1.44052701e+00, -9.25773036e-01,\n",
       "       -1.46917070e-01,  2.26809465e+00,  9.46536413e-01,  6.43942808e-01,\n",
       "       -1.12465765e+00, -2.10857271e-01,  1.20739054e+00,  6.16969339e-01,\n",
       "        8.58039113e-01,  1.33989243e+00,  4.78158275e-01,  3.29638630e-01,\n",
       "        1.58918192e+00,  1.47169549e+00,  1.07429052e+00, -7.39493989e-02,\n",
       "        1.30099085e-01,  5.67789244e-02,  9.18922511e-01,  8.74299264e-01,\n",
       "        6.93388510e-01,  1.75443453e+00,  7.32726920e-01, -2.57268400e-01,\n",
       "        1.05850602e+00, -5.98072918e-01,  1.85031886e-01, -2.79199579e-01,\n",
       "        8.40828775e-02, -2.00362301e+00, -7.10858998e-01, -8.88331633e-01,\n",
       "       -8.62877899e-01,  3.34644913e-02, -1.73261817e-01, -1.82741835e-01,\n",
       "       -1.17171360e+00,  7.26620269e-01,  1.43302458e+00, -4.11534592e-01,\n",
       "       -1.31558770e+00, -5.02265339e-01,  1.43688160e-01,  1.96999188e+00,\n",
       "        3.38673191e-01,  5.53265205e-01,  9.95836376e-01, -1.26431841e+00,\n",
       "        1.70486623e+00,  3.30524560e-01, -1.12127053e+00,  2.08391605e+00,\n",
       "        2.96857169e-01, -2.50798375e-01, -2.75306060e-01, -1.50574099e+00,\n",
       "       -9.33042211e-01,  9.68950033e-01, -1.65487228e+00,  8.29921142e-01,\n",
       "       -1.57561523e+00,  4.20753343e-01, -1.20627533e+00,  4.46539351e-01,\n",
       "        1.65476250e+00, -9.10477553e-01, -7.27099994e-01,  2.04215607e+00,\n",
       "        1.14101127e+00, -6.74988252e-01, -1.36256567e+00,  5.75606839e-01,\n",
       "        2.56291694e-01, -1.44359398e+00,  1.98417591e-01,  1.46070760e+00,\n",
       "       -2.86835471e-01,  2.24872057e-01,  4.72359676e-01,  5.64503796e-01,\n",
       "        2.56953360e-01, -1.49594680e+00, -3.80227593e-01,  1.87658196e+00,\n",
       "       -1.09197437e+00, -1.73928065e-01, -6.04405906e-01, -4.63564347e-01,\n",
       "        1.52730174e-01,  1.45254893e+00,  6.33216104e-01,  4.56311549e-01,\n",
       "        6.68549226e-01,  2.52849360e+00,  2.49610454e+00,  2.69251881e-01,\n",
       "        1.63529767e+00,  9.81088939e-01, -5.29875860e-01, -7.80424753e-01,\n",
       "       -6.02690684e-02,  1.52797758e+00,  3.87082538e-02, -2.04235806e+00,\n",
       "       -7.10239585e-01,  3.79661965e+00, -1.22264635e+00,  1.58057421e+00,\n",
       "        9.09376279e-01, -8.36395766e-01,  5.84106112e-01, -1.94325169e+00,\n",
       "        1.07807123e+00,  7.05259619e-01,  1.08272478e+00,  3.73604270e-01,\n",
       "       -2.54860359e-01,  1.26806505e-01,  1.00871229e-01, -8.07355383e-01,\n",
       "        2.18807633e-01, -3.04072822e-01, -2.73840776e+00, -4.86700482e-01,\n",
       "        2.22413970e+00,  6.28601236e-01, -5.53723366e-01,  5.57370709e-01,\n",
       "        8.01801119e-01, -1.05776431e-01,  6.95629538e-01,  1.63196619e+00,\n",
       "       -1.11371152e+00,  1.64124431e+00,  1.01057610e-01, -2.15929208e+00,\n",
       "        1.01974407e-02,  8.10865460e-01,  6.02045288e-01,  1.01550671e+00,\n",
       "       -6.95319948e-01,  1.07144051e-01,  1.67473718e-01,  3.22287248e-01,\n",
       "       -1.30036439e+00,  5.10514265e-01, -1.13576700e+00,  9.80686218e-02,\n",
       "        9.58777882e-01, -4.07770295e-01,  2.51152092e+00,  8.99576705e-01,\n",
       "       -4.14043360e-01, -8.54642430e-01,  4.46371444e-01,  6.56315777e-01,\n",
       "        2.77545218e+00,  8.15086537e-01,  1.16408455e+00, -4.38689810e-01,\n",
       "       -8.13702738e-01, -1.23400410e+00,  5.78607203e-01,  1.89013570e-01,\n",
       "        1.12211732e-01, -2.59816604e-01,  9.36944036e-01, -1.00323657e+00,\n",
       "        1.49812732e+00,  2.34291877e-01,  2.47768460e-01, -7.45773772e-01,\n",
       "       -3.02075386e-01,  1.65437008e-01, -9.14712533e-02, -2.44157835e+00,\n",
       "        5.04463007e-01,  1.39683387e-02, -5.63435372e-01, -3.21927620e-01,\n",
       "        1.04340718e+00,  6.91121618e-02, -6.86142304e-01, -1.72667218e+00,\n",
       "       -6.17770383e-01,  3.71048850e-01,  3.00564427e+00, -5.08895483e-01,\n",
       "       -7.41279819e-01,  2.73117107e+00, -2.07655408e+00, -7.73631222e-01,\n",
       "       -9.69816038e-01, -1.53531924e-01, -3.09439197e-01, -9.46525615e-01,\n",
       "        4.16477860e-01, -6.19073178e-01, -2.43679728e+00,  1.64589751e-02,\n",
       "       -6.62716155e-01, -8.01950445e-01,  4.74248321e-03, -4.23865859e-01,\n",
       "        3.84705646e-01, -1.26966689e+00, -3.85022635e-01, -1.82346986e-02,\n",
       "       -1.54292630e-01, -1.92702900e+00, -6.45891424e-01, -1.08700849e+00,\n",
       "        1.39820969e+00,  4.57090581e-01, -8.05931118e-02,  1.55878818e-01,\n",
       "       -1.59670190e-01,  8.40067763e-01,  2.90104896e-01,  1.23531396e+00,\n",
       "        1.10266536e+00,  7.66429207e-01,  1.67500359e+00,  1.11095751e+00,\n",
       "        4.64139566e-02, -1.43284804e+00, -6.92294901e-01, -5.12711488e-01,\n",
       "       -9.37451616e-01, -1.05981941e+00, -2.44477535e-01,  1.44537096e-01,\n",
       "        1.52953971e-01, -4.48270653e-01, -2.51082062e-01, -3.46506919e-01,\n",
       "       -7.70448875e-01, -2.70969319e-01, -6.56400521e-01, -1.09528647e+00,\n",
       "       -2.46651428e-01,  3.65668032e-01,  5.24347350e-01, -2.95491600e-01,\n",
       "       -5.58988257e-02,  7.69723553e-01, -7.37824557e-01, -6.51608192e-01,\n",
       "        7.98281947e-01,  1.33422649e-01, -8.04349409e-01, -1.14246012e+00,\n",
       "        1.05737387e-01,  8.33370788e-01, -8.63696366e-01, -1.46764222e+00,\n",
       "        1.20714707e+00, -1.40735073e+00,  1.11054374e+00, -4.95190193e-01,\n",
       "       -7.79901248e-01, -1.90707691e+00,  8.00901024e-01, -3.46117277e-01,\n",
       "       -1.53881282e+00,  5.05928798e-01, -6.63380121e-02, -4.15881385e-01,\n",
       "       -1.52847381e+00, -1.55465104e-01, -9.79862986e-01, -7.18672619e-02,\n",
       "        6.94215615e-01,  1.54953041e+00, -8.97339981e-01, -1.30161764e+00,\n",
       "        1.42730443e+00, -1.15699179e+00,  1.41206323e+00, -1.41528830e-01,\n",
       "        5.29412274e-01,  8.37898254e-01, -1.63163800e+00, -1.23401511e+00,\n",
       "       -4.90346293e-01,  3.88776353e-01, -1.02734106e+00,  8.56948171e-01,\n",
       "       -1.21185311e-01, -5.05494440e-03,  1.86827523e+00, -1.11194081e+00,\n",
       "        1.06730330e+00, -2.43694579e-01,  1.37857538e+00,  1.26914802e+00,\n",
       "        7.85980542e-01, -1.50268980e+00, -7.08537615e-01, -9.11446553e-02,\n",
       "        8.52037841e-01, -5.45741181e-01, -1.07274196e+00,  1.99109378e+00,\n",
       "       -1.91182226e-01,  1.36175063e+00,  4.51568382e-01, -5.08628145e-01,\n",
       "        9.07191582e-02,  1.76056490e+00, -5.20815910e-02, -8.31672962e-01,\n",
       "       -2.63577900e-01,  7.52200873e-01,  8.41742895e-02, -1.01416450e+00,\n",
       "        9.92284977e-01,  5.11829627e-01, -3.10483881e-01,  3.75204089e-01,\n",
       "        1.13516295e+00, -1.96608551e-01, -9.13151874e-01, -5.85572069e-01,\n",
       "        1.59984778e+00,  1.00844655e+00,  4.25442806e-01, -7.11136612e-02,\n",
       "       -4.03772206e-01, -1.49059443e+00, -4.32734853e-01,  1.68320965e+00,\n",
       "       -1.04028983e+00,  9.63366310e-02, -6.86127003e-01, -3.64745976e-01,\n",
       "        1.37129980e+00,  3.16423679e-01,  3.03601181e-01,  4.08854668e-01,\n",
       "        1.40372508e+00,  3.41082590e-01,  1.03154599e+00, -1.93717429e+00,\n",
       "        5.01596742e-01,  4.74747954e-01, -3.22821807e-01, -1.20021949e+00,\n",
       "        2.49312687e+00,  1.08882163e+00, -1.00142959e+00, -1.08092843e+00,\n",
       "       -6.94212318e-01,  7.99924987e-01,  5.18337146e-01,  1.06614487e-01,\n",
       "        5.32990091e-01,  8.33165909e-01, -5.94261921e-01,  1.00111265e+00,\n",
       "        1.41039041e-01,  4.82599645e-01, -5.99393307e-01,  1.40139701e+00,\n",
       "        6.68994554e-01,  9.25752193e-01, -4.13526497e-01,  2.32203552e-01,\n",
       "       -1.15732211e+00,  3.52792512e-01, -6.95583419e-01,  3.51326964e-01,\n",
       "        6.83790084e-01, -6.65591052e-01, -2.51085745e-01, -6.86224617e-01,\n",
       "       -2.09311383e-01,  6.65609664e-01, -8.14358061e-02, -8.42469793e-01,\n",
       "       -6.28628979e-01, -5.21945026e-01, -1.45695668e-01, -1.19361815e+00,\n",
       "        8.30909928e-01, -2.40618574e-01, -9.68226919e-02, -1.85718972e+00,\n",
       "        6.11435026e-01,  1.05189106e+00, -9.83860241e-01,  1.34849975e+00,\n",
       "        6.54971121e-01,  4.84310002e-01, -1.33169406e+00,  8.38716403e-01,\n",
       "        1.33279724e-01, -1.42957208e+00,  1.08688288e-01, -1.93576047e+00,\n",
       "       -5.45708175e-01, -1.21340864e+00, -3.25366574e-01,  3.47942209e-01,\n",
       "        2.15881905e-01, -1.71910893e+00, -6.95333478e-01, -7.42401211e-01,\n",
       "        1.53143933e+00, -1.95146439e+00,  2.90648986e-01,  1.68704231e+00,\n",
       "       -5.03183500e-01, -7.96601376e-01,  6.17934056e-03,  1.24120237e+00,\n",
       "        4.55266292e-01, -3.68670602e-01, -1.77203379e+00, -1.63935889e-01,\n",
       "        3.39933158e-01,  1.12485371e+00,  1.56874994e+00,  5.19710232e-01,\n",
       "        5.08456461e-01, -6.20188218e-01,  5.03719885e-01,  6.39024025e-01,\n",
       "        6.94870542e-01, -1.65560372e+00,  6.39354631e-01, -1.56905142e-01,\n",
       "        8.54773420e-01, -5.05484071e-01,  3.22376798e-01, -6.52800736e-02,\n",
       "       -4.49146442e-01,  4.47158189e-01, -1.29681462e+00, -1.91013604e-01,\n",
       "       -8.40648384e-01,  5.13257234e-01, -8.49442043e-01,  6.03974104e-01,\n",
       "        1.05456985e+00,  1.18936021e+00,  2.31280803e+00, -7.62202955e-01,\n",
       "        1.81222280e+00, -1.20428339e+00, -1.89667398e-01,  1.21061742e-01,\n",
       "       -1.48157109e+00, -1.68737957e+00, -3.20649493e-01,  1.07807059e-01,\n",
       "        1.05042772e-01, -2.30668664e+00,  2.14494149e-02, -7.89580031e-02,\n",
       "       -1.20858241e-01, -1.00022561e+00,  2.29446673e-01, -3.41668176e-01,\n",
       "        4.75656031e-01, -3.92560835e-01, -3.06635412e-01, -5.17429719e-01,\n",
       "        7.43944578e-01,  1.82661370e+00,  6.85436062e-01,  1.07309662e+00,\n",
       "       -5.15171114e-01, -4.12693516e-01,  1.57725618e+00, -2.67599287e-01,\n",
       "        8.88219467e-01, -4.41492657e-01, -7.81349862e-01,  4.92823476e-01,\n",
       "       -6.19777954e-02,  9.10130778e-02,  1.56954703e+00, -1.99496589e+00,\n",
       "        1.56511270e+00, -1.25614095e+00, -2.01983289e+00,  4.76609883e-02,\n",
       "       -7.84345177e-04, -1.08373228e-01, -1.68580880e-02,  1.19979377e+00,\n",
       "        1.94944851e-01,  3.11547332e-01,  3.74700665e-01, -2.35573785e+00,\n",
       "       -3.08673764e-01, -9.45050294e-01, -6.97472969e-01,  1.37777362e+00,\n",
       "       -1.07845649e+00, -4.69028216e-01, -2.39253602e-01, -2.42334530e-01,\n",
       "       -1.69544067e+00,  1.50347051e+00,  1.09011052e+00,  8.78365325e-01,\n",
       "       -8.84088138e-01, -6.77340748e-01, -8.44912584e-01, -1.69117207e+00,\n",
       "       -1.11171558e+00,  1.93596551e-01, -2.00885500e-01,  1.66287238e+00,\n",
       "        8.80638042e-01, -3.14363917e-01, -2.74651706e-01, -6.52012458e-01])"
      ]
     },
     "execution_count": 57,
     "metadata": {},
     "output_type": "execute_result"
    }
   ],
   "source": [
    "data1"
   ]
  },
  {
   "cell_type": "code",
   "execution_count": null,
   "id": "c486e4b5-91a6-4472-967a-8058cf775161",
   "metadata": {},
   "outputs": [],
   "source": []
  }
 ],
 "metadata": {
  "kernelspec": {
   "display_name": "torch2",
   "language": "python",
   "name": "torch2"
  },
  "language_info": {
   "codemirror_mode": {
    "name": "ipython",
    "version": 3
   },
   "file_extension": ".py",
   "mimetype": "text/x-python",
   "name": "python",
   "nbconvert_exporter": "python",
   "pygments_lexer": "ipython3",
   "version": "3.9.16"
  }
 },
 "nbformat": 4,
 "nbformat_minor": 5
}
